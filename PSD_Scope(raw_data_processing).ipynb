{
  "nbformat": 4,
  "nbformat_minor": 0,
  "metadata": {
    "colab": {
      "provenance": [],
      "authorship_tag": "ABX9TyN3yJUjkZSnt4Pap+eNL5GH",
      "include_colab_link": true
    },
    "kernelspec": {
      "name": "python3",
      "display_name": "Python 3"
    },
    "language_info": {
      "name": "python"
    }
  },
  "cells": [
    {
      "cell_type": "markdown",
      "metadata": {
        "id": "view-in-github",
        "colab_type": "text"
      },
      "source": [
        "<a href=\"https://colab.research.google.com/github/wonseokb/Genat4_Study/blob/main/PSD_Scope(raw_data_processing).ipynb\" target=\"_parent\"><img src=\"https://colab.research.google.com/assets/colab-badge.svg\" alt=\"Open In Colab\"/></a>"
      ]
    },
    {
      "cell_type": "code",
      "source": [
        "!pip install tqdm\n",
        "from tqdm import tqdm\n",
        "import time\n",
        "\n",
        "import numpy as np\n",
        "import os\n",
        "from google.colab import drive\n",
        "import matplotlib.pyplot as plt\n",
        "\n",
        "# Mount the Google Drive to access files\n",
        "drive.mount('/content/drive')"
      ],
      "metadata": {
        "colab": {
          "base_uri": "https://localhost:8080/"
        },
        "id": "3TV8ntJ5LQxv",
        "outputId": "c306da9b-d911-4010-a46d-bf44907e704c"
      },
      "execution_count": null,
      "outputs": [
        {
          "output_type": "stream",
          "name": "stdout",
          "text": [
            "Looking in indexes: https://pypi.org/simple, https://us-python.pkg.dev/colab-wheels/public/simple/\n",
            "Requirement already satisfied: tqdm in /usr/local/lib/python3.9/dist-packages (4.65.0)\n",
            "Mounted at /content/drive\n"
          ]
        }
      ]
    },
    {
      "cell_type": "code",
      "execution_count": null,
      "metadata": {
        "colab": {
          "base_uri": "https://localhost:8080/"
        },
        "id": "Ca6m8ZtyKNLP",
        "outputId": "4f41619a-77f3-42c3-cd03-5c6cb568056a"
      },
      "outputs": [
        {
          "output_type": "stream",
          "name": "stdout",
          "text": [
            "(9560,)\n",
            "(24670,)\n",
            "(19156,)\n",
            "(39320,)\n",
            "(4637,)\n",
            "(37916,)\n",
            "(56216,)\n",
            "(4533,)\n",
            "(6316,)\n",
            "[0.0286847 0.0290899 0.0388827 ... 0.0614707 0.02839   0.0361813]\n",
            "[0.0285825 0.0516815 0.0368873 ... 0.0498782 0.0347896 0.0578764]\n",
            "[0.0387845 0.0642704 0.0430823 ... 0.0369856 0.0641722 0.0315888]\n",
            "[0.0514753 0.0344867 0.0368812 ... 0.0529733 0.0561721 0.0333877]\n",
            "[0.0377835 0.0465797 0.0479788 ... 0.0452791 0.0504765 0.0693695]\n",
            "[0.0699718 0.0420763 0.0424811 ... 0.0384821 0.0291836 0.0606733]\n",
            "[0.0434814 0.0610716 0.0401843 ... 0.0474783 0.0429779 0.0290899]\n",
            "[0.0428797 0.0336824 0.0456794 ... 0.0617715 0.0271866 0.0268858]\n",
            "[0.0405797 0.0341885 0.0329864 ... 0.0361881 0.0294902 0.0409846]\n",
            "(202324,)\n"
          ]
        }
      ],
      "source": [
        "import numpy as np\n",
        "\n",
        "# Load the CSV file into a numpy array\n",
        "Sr_amp_1 = np.genfromtxt('/content/drive/My Drive/PSD.Sr/F1Sr9000001.csv', delimiter=',', usecols=(1))\n",
        "Sr_amp_1 = Sr_amp_1[4:]\n",
        "\n",
        "Sr_amp_2 = np.genfromtxt('/content/drive/My Drive/PSD.Sr/F1Sr9000003.csv', delimiter=',', usecols=(1))\n",
        "Sr_amp_2 = Sr_amp_2[4:]\n",
        "\n",
        "Sr_amp_3 = np.genfromtxt('/content/drive/My Drive/PSD.Sr/F1Sr9000006.csv', delimiter=',', usecols=(1))\n",
        "Sr_amp_3 = Sr_amp_3[4:]\n",
        "\n",
        "Sr_amp_4 = np.genfromtxt('/content/drive/My Drive/PSD.Sr/F1Sr9000012.csv', delimiter=',', usecols=(1))\n",
        "Sr_amp_4 = Sr_amp_4[4:]\n",
        "\n",
        "Sr_amp_5 = np.genfromtxt('/content/drive/My Drive/PSD.Sr/F1Sr9000013.csv', delimiter=',', usecols=(1))\n",
        "Sr_amp_5 = Sr_amp_5[4:]\n",
        "\n",
        "Sr_amp_6 = np.genfromtxt('/content/drive/My Drive/PSD.Sr/F1Sr9000020.csv', delimiter=',', usecols=(1))\n",
        "Sr_amp_6 = Sr_amp_6[4:]\n",
        "\n",
        "Sr_amp_7 = np.genfromtxt('/content/drive/My Drive/PSD.Sr/F1Sr9000027.csv', delimiter=',', usecols=(1))\n",
        "Sr_amp_7 = Sr_amp_7[4:]\n",
        "\n",
        "Sr_amp_8 = np.genfromtxt('/content/drive/My Drive/PSD.Sr/F1Sr9000028.csv', delimiter=',', usecols=(1))\n",
        "Sr_amp_8 = Sr_amp_8[4:]\n",
        "\n",
        "Sr_amp_9 = np.genfromtxt('/content/drive/My Drive/PSD.Sr/F1Sr9000029.csv', delimiter=',', usecols=(1))\n",
        "Sr_amp_9 = Sr_amp_9[4:]\n",
        "\n",
        "# Print the shape of the arrays\n",
        "print(Sr_amp_1.shape)\n",
        "print(Sr_amp_2.shape)\n",
        "print(Sr_amp_3.shape)\n",
        "print(Sr_amp_4.shape)\n",
        "print(Sr_amp_5.shape)\n",
        "print(Sr_amp_6.shape)\n",
        "print(Sr_amp_7.shape)\n",
        "print(Sr_amp_8.shape)\n",
        "print(Sr_amp_9.shape)\n",
        "\n",
        "# Print the arrays\n",
        "print(Sr_amp_1)\n",
        "print(Sr_amp_2)\n",
        "print(Sr_amp_3)\n",
        "print(Sr_amp_4)\n",
        "print(Sr_amp_5)\n",
        "print(Sr_amp_6)\n",
        "print(Sr_amp_7)\n",
        "print(Sr_amp_8)\n",
        "print(Sr_amp_9)\n",
        "\n",
        "# Combine the NumPy arrays into one\n",
        "Sr_amp = np.concatenate((Sr_amp_1, Sr_amp_2, Sr_amp_3, Sr_amp_4, Sr_amp_5, Sr_amp_6, Sr_amp_7, Sr_amp_8, Sr_amp_9))\n",
        "print(Sr_amp.shape)"
      ]
    },
    {
      "cell_type": "code",
      "source": [
        "import numpy as np\n",
        "\n",
        "# Load the CSV file into a numpy array\n",
        "Sr_amp_1 = np.genfromtxt('/content/drive/My Drive/PSD.Sr/F1Sr9000001.csv', delimiter=',', usecols=(1))\n",
        "Sr_amp_1 = Sr_amp_1[4:]\n",
        "\n",
        "Sr_amp_2 = np.genfromtxt('/content/drive/My Drive/PSD.Sr/F1Sr9000003.csv', delimiter=',', usecols=(1))\n",
        "Sr_amp_2 = Sr_amp_2[4:]\n",
        "\n",
        "Sr_amp_3 = np.genfromtxt('/content/drive/My Drive/PSD.Sr/F1Sr9000006.csv', delimiter=',', usecols=(1))\n",
        "Sr_amp_3 = Sr_amp_3[4:]\n",
        "\n",
        "Sr_amp_4 = np.genfromtxt('/content/drive/My Drive/PSD.Sr/F1Sr9000012.csv', delimiter=',', usecols=(1))\n",
        "Sr_amp_4 = Sr_amp_4[4:]\n",
        "\n",
        "Sr_amp_5 = np.genfromtxt('/content/drive/My Drive/PSD.Sr/F1Sr9000013.csv', delimiter=',', usecols=(1))\n",
        "Sr_amp_5 = Sr_amp_5[4:]\n",
        "\n",
        "Sr_amp_6 = np.genfromtxt('/content/drive/My Drive/PSD.Sr/F1Sr9000020.csv', delimiter=',', usecols=(1))\n",
        "Sr_amp_6 = Sr_amp_6[4:]\n",
        "\n",
        "Sr_amp_7 = np.genfromtxt('/content/drive/My Drive/PSD.Sr/F1Sr9000027.csv', delimiter=',', usecols=(1))\n",
        "Sr_amp_7 = Sr_amp_7[4:]\n",
        "\n",
        "Sr_amp_8 = np.genfromtxt('/content/drive/My Drive/PSD.Sr/F1Sr9000028.csv', delimiter=',', usecols=(1))\n",
        "Sr_amp_8 = Sr_amp_8[4:]\n",
        "\n",
        "Sr_amp_9 = np.genfromtxt('/content/drive/My Drive/PSD.Sr/F1Sr9000029.csv', delimiter=',', usecols=(1))\n",
        "Sr_amp_9 = Sr_amp_9[4:]\n",
        "\n",
        "# Print the shape of the arrays\n",
        "print(Sr_amp_1.shape)\n",
        "print(Sr_amp_2.shape)\n",
        "print(Sr_amp_3.shape)\n",
        "print(Sr_amp_4.shape)\n",
        "print(Sr_amp_5.shape)\n",
        "print(Sr_amp_6.shape)\n",
        "print(Sr_amp_7.shape)\n",
        "print(Sr_amp_8.shape)\n",
        "print(Sr_amp_9.shape)\n",
        "\n",
        "# Print the arrays\n",
        "print(Sr_amp_1)\n",
        "print(Sr_amp_2)\n",
        "print(Sr_amp_3)\n",
        "print(Sr_amp_4)\n",
        "print(Sr_amp_5)\n",
        "print(Sr_amp_6)\n",
        "print(Sr_amp_7)\n",
        "print(Sr_amp_8)\n",
        "print(Sr_amp_9)\n",
        "\n",
        "# Combine the NumPy arrays into one\n",
        "Sr_amp = np.concatenate((Sr_amp_1, Sr_amp_2, Sr_amp_3, Sr_amp_4, Sr_amp_5, Sr_amp_6, Sr_amp_7, Sr_amp_8, Sr_amp_9))\n",
        "print(Sr_amp.shape)"
      ],
      "metadata": {
        "colab": {
          "base_uri": "https://localhost:8080/"
        },
        "id": "w7o8HuygP61Z",
        "outputId": "d8089cc9-bfeb-4ca0-a38e-20b157dc7ed5"
      },
      "execution_count": null,
      "outputs": [
        {
          "output_type": "stream",
          "name": "stdout",
          "text": [
            "(202324,)\n"
          ]
        }
      ]
    },
    {
      "cell_type": "code",
      "source": [
        "import numpy as np\n",
        "\n",
        "# Load the CSV files into numpy arrays and rename variables\n",
        "area_1 = np.genfromtxt('/content/drive/My Drive/PSD.Sr/F2Sr9000001.csv', delimiter=',', usecols=(1))[4:]\n",
        "area_2 = np.genfromtxt('/content/drive/My Drive/PSD.Sr/F2Sr9000003.csv', delimiter=',', usecols=(1))[4:]\n",
        "area_3 = np.genfromtxt('/content/drive/My Drive/PSD.Sr/F2Sr9000006.csv', delimiter=',', usecols=(1))[4:]\n",
        "area_4 = np.genfromtxt('/content/drive/My Drive/PSD.Sr/F2Sr9000012.csv', delimiter=',', usecols=(1))[4:]\n",
        "area_5 = np.genfromtxt('/content/drive/My Drive/PSD.Sr/F2Sr9000013.csv', delimiter=',', usecols=(1))[4:]\n",
        "area_6 = np.genfromtxt('/content/drive/My Drive/PSD.Sr/F2Sr9000020.csv', delimiter=',', usecols=(1))[4:]\n",
        "area_7 = np.genfromtxt('/content/drive/My Drive/PSD.Sr/F2Sr9000027.csv', delimiter=',', usecols=(1))[4:]\n",
        "area_8 = np.genfromtxt('/content/drive/My Drive/PSD.Sr/F2Sr9000028.csv', delimiter=',', usecols=(1))[4:]\n",
        "area_9 = np.genfromtxt('/content/drive/My Drive/PSD.Sr/F2Sr9000029.csv', delimiter=',', usecols=(1))[4:]\n",
        "\n",
        "# Concatenate the numpy arrays\n",
        "area = np.concatenate((area_1, area_2, area_3, area_4, area_5, area_6, area_7, area_8, area_9))\n",
        "\n",
        "# Print the shape of the concatenated array\n",
        "print(area.shape)\n",
        "\n",
        "# Print the concatenated array\n",
        "print(area)\n"
      ],
      "metadata": {
        "colab": {
          "base_uri": "https://localhost:8080/"
        },
        "id": "2cfC0uErSvqR",
        "outputId": "b6c82960-fe25-4f91-97ce-93e9c939c67c"
      },
      "execution_count": null,
      "outputs": [
        {
          "output_type": "stream",
          "name": "stdout",
          "text": [
            "(202324,)\n",
            "[-4.11765e-10 -4.68750e-10 -5.92157e-10 ... -5.94363e-10 -4.82353e-10\n",
            " -6.50490e-10]\n"
          ]
        }
      ]
    },
    {
      "cell_type": "code",
      "source": [
        "import numpy as np\n",
        "\n",
        "# Load the CSV files into numpy arrays and rename variables\n",
        "area_1 = np.genfromtxt('/content/drive/My Drive/PSD.Sr/F2Sr9000001.csv', delimiter=',', usecols=(1))[4:]\n",
        "area_2 = np.genfromtxt('/content/drive/My Drive/PSD.Sr/F2Sr9000003.csv', delimiter=',', usecols=(1))[4:]\n",
        "area_3 = np.genfromtxt('/content/drive/My Drive/PSD.Sr/F2Sr9000006.csv', delimiter=',', usecols=(1))[4:]\n",
        "area_4 = np.genfromtxt('/content/drive/My Drive/PSD.Sr/F2Sr9000012.csv', delimiter=',', usecols=(1))[4:]\n",
        "area_5 = np.genfromtxt('/content/drive/My Drive/PSD.Sr/F2Sr9000013.csv', delimiter=',', usecols=(1))[4:]\n",
        "area_6 = np.genfromtxt('/content/drive/My Drive/PSD.Sr/F2Sr9000020.csv', delimiter=',', usecols=(1))[4:]\n",
        "area_7 = np.genfromtxt('/content/drive/My Drive/PSD.Sr/F2Sr9000027.csv', delimiter=',', usecols=(1))[4:]\n",
        "area_8 = np.genfromtxt('/content/drive/My Drive/PSD.Sr/F2Sr9000028.csv', delimiter=',', usecols=(1))[4:]\n",
        "area_9 = np.genfromtxt('/content/drive/My Drive/PSD.Sr/F2Sr9000029.csv', delimiter=',', usecols=(1))[4:]\n",
        "\n",
        "# Concatenate the numpy arrays\n",
        "area = np.concatenate((area_1, area_2, area_3, area_4, area_5, area_6, area_7, area_8, area_9))\n",
        "\n",
        "# Print the shape of the concatenated array\n",
        "print(area.shape)\n",
        "\n",
        "# Print the concatenated array\n",
        "print(area)"
      ],
      "metadata": {
        "colab": {
          "base_uri": "https://localhost:8080/"
        },
        "id": "AjUYvf0bT-jK",
        "outputId": "a5795ab2-ad21-419b-f35c-8a53e77d3af0"
      },
      "execution_count": null,
      "outputs": [
        {
          "output_type": "stream",
          "name": "stdout",
          "text": [
            "(202324,)\n",
            "[-4.11765e-10 -4.68750e-10 -5.92157e-10 ... -5.94363e-10 -4.82353e-10\n",
            " -6.50490e-10]\n"
          ]
        }
      ]
    },
    {
      "cell_type": "code",
      "source": [
        "import numpy as np\n",
        "\n",
        "# Load the CSV files into numpy arrays and rename variables\n",
        "FWHM_1 = np.genfromtxt('/content/drive/My Drive/PSD.Sr/F4Sr9000001.csv', delimiter=',', usecols=(1))[4:]\n",
        "FWHM_2 = np.genfromtxt('/content/drive/My Drive/PSD.Sr/F4Sr9000003.csv', delimiter=',', usecols=(1))[4:]\n",
        "FWHM_3 = np.genfromtxt('/content/drive/My Drive/PSD.Sr/F4Sr9000006.csv', delimiter=',', usecols=(1))[4:]\n",
        "FWHM_4 = np.genfromtxt('/content/drive/My Drive/PSD.Sr/F4Sr9000012.csv', delimiter=',', usecols=(1))[4:]\n",
        "FWHM_5 = np.genfromtxt('/content/drive/My Drive/PSD.Sr/F4Sr9000013.csv', delimiter=',', usecols=(1))[4:]\n",
        "FWHM_6 = np.genfromtxt('/content/drive/My Drive/PSD.Sr/F4Sr9000020.csv', delimiter=',', usecols=(1))[4:]\n",
        "FWHM_7 = np.genfromtxt('/content/drive/My Drive/PSD.Sr/F4Sr9000027.csv', delimiter=',', usecols=(1))[4:]\n",
        "FWHM_8 = np.genfromtxt('/content/drive/My Drive/PSD.Sr/F4Sr9000028.csv', delimiter=',', usecols=(1))[4:]\n",
        "FWHM_9 = np.genfromtxt('/content/drive/My Drive/PSD.Sr/F4Sr9000029.csv', delimiter=',', usecols=(1))[4:]\n",
        "\n",
        "# Concatenate the numpy arrays\n",
        "FWHM = np.concatenate((FWHM_1, FWHM_2, FWHM_3, FWHM_4, FWHM_5, FWHM_6, FWHM_7, FWHM_8, FWHM_9))\n",
        "\n",
        "# Print the shape of the concatenated array\n",
        "print(FWHM.shape)\n",
        "\n",
        "# Print the concatenated array\n",
        "print(FWHM)\n"
      ],
      "metadata": {
        "colab": {
          "base_uri": "https://localhost:8080/"
        },
        "id": "3YrHPmK1WiAJ",
        "outputId": "f8c3c2bb-d1ed-4ddb-cbf4-be8dd8480e95"
      },
      "execution_count": null,
      "outputs": [
        {
          "output_type": "stream",
          "name": "stdout",
          "text": [
            "(202324,)\n",
            "[1.09760e-08 1.10625e-08 1.05138e-08 ... 1.07812e-08 1.02180e-08\n",
            " 1.06101e-08]\n"
          ]
        }
      ]
    },
    {
      "cell_type": "code",
      "source": [
        "import numpy as np\n",
        "\n",
        "# Load the CSV files into numpy arrays and rename variables\n",
        "falling_1 = np.genfromtxt('/content/drive/My Drive/PSD.Sr/F6Sr9000001.csv', delimiter=',', usecols=(1))[4:]\n",
        "falling_2 = np.genfromtxt('/content/drive/My Drive/PSD.Sr/F6Sr9000003.csv', delimiter=',', usecols=(1))[4:]\n",
        "falling_3 = np.genfromtxt('/content/drive/My Drive/PSD.Sr/F6Sr9000006.csv', delimiter=',', usecols=(1))[4:]\n",
        "falling_4 = np.genfromtxt('/content/drive/My Drive/PSD.Sr/F6Sr9000012.csv', delimiter=',', usecols=(1))[4:]\n",
        "falling_5 = np.genfromtxt('/content/drive/My Drive/PSD.Sr/F6Sr9000013.csv', delimiter=',', usecols=(1))[4:]\n",
        "falling_6 = np.genfromtxt('/content/drive/My Drive/PSD.Sr/F6Sr9000020.csv', delimiter=',', usecols=(1))[4:]\n",
        "falling_7 = np.genfromtxt('/content/drive/My Drive/PSD.Sr/F6Sr9000027.csv', delimiter=',', usecols=(1))[4:]\n",
        "falling_8 = np.genfromtxt('/content/drive/My Drive/PSD.Sr/F6Sr9000028.csv', delimiter=',', usecols=(1))[4:]\n",
        "falling_9 = np.genfromtxt('/content/drive/My Drive/PSD.Sr/F6Sr9000029.csv', delimiter=',', usecols=(1))[4:]\n",
        "\n",
        "# Concatenate the numpy arrays\n",
        "falling = np.concatenate((falling_1, falling_2, falling_3, falling_4, falling_5, falling_6, falling_7, falling_8, falling_9))\n",
        "\n",
        "# Print the shape of the concatenated array\n",
        "print(falling.shape)\n",
        "\n",
        "# Print the concatenated array\n",
        "print(falling)\n"
      ],
      "metadata": {
        "colab": {
          "base_uri": "https://localhost:8080/"
        },
        "id": "ALEp79zdWi8r",
        "outputId": "1763e086-d641-48a2-c689-e1afe65f8b95"
      },
      "execution_count": null,
      "outputs": [
        {
          "output_type": "stream",
          "name": "stdout",
          "text": [
            "(202324,)\n",
            "[2.58594e-09 2.67117e-09 2.45611e-09 ... 2.85141e-09 2.56956e-09\n",
            " 2.80063e-09]\n"
          ]
        }
      ]
    },
    {
      "cell_type": "code",
      "source": [
        "import numpy as np\n",
        "\n",
        "# Load the CSV files into numpy arrays and rename variables\n",
        "rising_1 = np.genfromtxt('/content/drive/My Drive/PSD.Sr/F8Sr9000001.csv', delimiter=',', usecols=(1))[4:]\n",
        "rising_2 = np.genfromtxt('/content/drive/My Drive/PSD.Sr/F8Sr9000003.csv', delimiter=',', usecols=(1))[4:]\n",
        "rising_3 = np.genfromtxt('/content/drive/My Drive/PSD.Sr/F8Sr9000006.csv', delimiter=',', usecols=(1))[4:]\n",
        "rising_4 = np.genfromtxt('/content/drive/My Drive/PSD.Sr/F8Sr9000012.csv', delimiter=',', usecols=(1))[4:]\n",
        "rising_5 = np.genfromtxt('/content/drive/My Drive/PSD.Sr/F8Sr9000013.csv', delimiter=',', usecols=(1))[4:]\n",
        "rising_6 = np.genfromtxt('/content/drive/My Drive/PSD.Sr/F8Sr9000020.csv', delimiter=',', usecols=(1))[4:]\n",
        "rising_7 = np.genfromtxt('/content/drive/My Drive/PSD.Sr/F8Sr9000027.csv', delimiter=',', usecols=(1))[4:]\n",
        "rising_8 = np.genfromtxt('/content/drive/My Drive/PSD.Sr/F8Sr9000028.csv', delimiter=',', usecols=(1))[4:]\n",
        "rising_9 = np.genfromtxt('/content/drive/My Drive/PSD.Sr/F8Sr9000029.csv', delimiter=',', usecols=(1))[4:]\n",
        "\n",
        "# Concatenate the numpy arrays\n",
        "rising = np.concatenate((rising_1, rising_2, rising_3, rising_4, rising_5, rising_6, rising_7, rising_8, rising_9))\n",
        "\n",
        "# Print the shape of the concatenated array\n",
        "print(rising.shape)\n",
        "\n",
        "# Print the concatenated array\n",
        "print(rising)\n"
      ],
      "metadata": {
        "colab": {
          "base_uri": "https://localhost:8080/"
        },
        "id": "hKkyKnjBXHC3",
        "outputId": "7b2ee50a-d3e9-47d6-a2c8-ed785d968fdd"
      },
      "execution_count": null,
      "outputs": [
        {
          "output_type": "stream",
          "name": "stdout",
          "text": [
            "(202324,)\n",
            "[1.19295e-08 1.14716e-08 1.00443e-08 ... 1.17873e-08 1.11607e-08\n",
            " 1.13750e-08]\n"
          ]
        }
      ]
    },
    {
      "cell_type": "code",
      "source": [
        "import numpy as np\n",
        "\n",
        "# Define column names\n",
        "add_clos = ['amp', 'area', 'FWHM', 'failing', 'rising'] \n",
        "# Stack arrays horizontally with column names\n",
        "add_arrays = [Sr_amp, area, FWHM, falling, rising]\n",
        "data_array = np.column_stack((add_arrays)).astype(float)\n",
        "\n",
        "from google.colab import drive\n",
        "drive.mount('/content/drive')\n",
        "\n",
        "import pandas as pd\n",
        "\n",
        "# Convert data_array to a pandas DataFrame\n",
        "df = pd.DataFrame(data_array, columns = add_clos)\n",
        "\n",
        "# Save the DataFrame as a CSV file in your Google Drive\n",
        "file_path = '/content/drive/MyDrive/autoPSD.Sr90-2/PSD - Sr90_200k.csv'\n",
        "df.to_csv(file_path, index=False)"
      ],
      "metadata": {
        "colab": {
          "base_uri": "https://localhost:8080/"
        },
        "id": "cUZRR5A9XNLZ",
        "outputId": "91940253-28ff-4ea5-c953-620d600fe2ff"
      },
      "execution_count": null,
      "outputs": [
        {
          "output_type": "stream",
          "name": "stdout",
          "text": [
            "Drive already mounted at /content/drive; to attempt to forcibly remount, call drive.mount(\"/content/drive\", force_remount=True).\n"
          ]
        }
      ]
    },
    {
      "cell_type": "code",
      "source": [],
      "metadata": {
        "id": "t_miZ6SW8JJ_"
      },
      "execution_count": null,
      "outputs": []
    }
  ]
}