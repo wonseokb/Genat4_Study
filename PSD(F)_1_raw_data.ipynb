{
  "nbformat": 4,
  "nbformat_minor": 0,
  "metadata": {
    "colab": {
      "provenance": [],
      "machine_shape": "hm",
      "authorship_tag": "ABX9TyMNQUHGFlFpDy66cqvnQMjd",
      "include_colab_link": true
    },
    "kernelspec": {
      "name": "python3",
      "display_name": "Python 3"
    },
    "language_info": {
      "name": "python"
    },
    "accelerator": "GPU",
    "gpuClass": "standard"
  },
  "cells": [
    {
      "cell_type": "markdown",
      "metadata": {
        "id": "view-in-github",
        "colab_type": "text"
      },
      "source": [
        "<a href=\"https://colab.research.google.com/github/wonseokb/Genat4_Study/blob/main/PSD(F)_1_raw_data.ipynb\" target=\"_parent\"><img src=\"https://colab.research.google.com/assets/colab-badge.svg\" alt=\"Open In Colab\"/></a>"
      ]
    },
    {
      "cell_type": "markdown",
      "source": [
        "### 0. Package"
      ],
      "metadata": {
        "id": "5odn3rTV2_R5"
      }
    },
    {
      "cell_type": "code",
      "source": [
        "!pip install tqdm\n",
        "from tqdm import tqdm\n",
        "import time\n",
        "\n",
        "import numpy as np\n",
        "import os\n",
        "from google.colab import drive\n",
        "import matplotlib.pyplot as plt\n",
        "\n",
        "# Mount the Google Drive to access files\n",
        "drive.mount('/content/drive')"
      ],
      "metadata": {
        "colab": {
          "base_uri": "https://localhost:8080/"
        },
        "id": "3TV8ntJ5LQxv",
        "outputId": "edcad1f2-5529-4e52-8153-e6dfee542b11"
      },
      "execution_count": null,
      "outputs": [
        {
          "output_type": "stream",
          "name": "stdout",
          "text": [
            "Looking in indexes: https://pypi.org/simple, https://us-python.pkg.dev/colab-wheels/public/simple/\n",
            "Requirement already satisfied: tqdm in /usr/local/lib/python3.9/dist-packages (4.65.0)\n",
            "Mounted at /content/drive\n"
          ]
        }
      ]
    },
    {
      "cell_type": "markdown",
      "source": [
        "###1. Sr90"
      ],
      "metadata": {
        "id": "BBkdNHAf28MB"
      }
    },
    {
      "cell_type": "code",
      "execution_count": null,
      "metadata": {
        "colab": {
          "base_uri": "https://localhost:8080/"
        },
        "id": "Ca6m8ZtyKNLP",
        "outputId": "4f41619a-77f3-42c3-cd03-5c6cb568056a"
      },
      "outputs": [
        {
          "output_type": "stream",
          "name": "stdout",
          "text": [
            "(9560,)\n",
            "(24670,)\n",
            "(19156,)\n",
            "(39320,)\n",
            "(4637,)\n",
            "(37916,)\n",
            "(56216,)\n",
            "(4533,)\n",
            "(6316,)\n",
            "[0.0286847 0.0290899 0.0388827 ... 0.0614707 0.02839   0.0361813]\n",
            "[0.0285825 0.0516815 0.0368873 ... 0.0498782 0.0347896 0.0578764]\n",
            "[0.0387845 0.0642704 0.0430823 ... 0.0369856 0.0641722 0.0315888]\n",
            "[0.0514753 0.0344867 0.0368812 ... 0.0529733 0.0561721 0.0333877]\n",
            "[0.0377835 0.0465797 0.0479788 ... 0.0452791 0.0504765 0.0693695]\n",
            "[0.0699718 0.0420763 0.0424811 ... 0.0384821 0.0291836 0.0606733]\n",
            "[0.0434814 0.0610716 0.0401843 ... 0.0474783 0.0429779 0.0290899]\n",
            "[0.0428797 0.0336824 0.0456794 ... 0.0617715 0.0271866 0.0268858]\n",
            "[0.0405797 0.0341885 0.0329864 ... 0.0361881 0.0294902 0.0409846]\n",
            "(202324,)\n"
          ]
        }
      ],
      "source": [
        "import numpy as np\n",
        "\n",
        "# Load the CSV file into a numpy array\n",
        "Sr_amp_1 = np.genfromtxt('/content/drive/My Drive/PSD.Sr/F1Sr9000001.csv', delimiter=',', usecols=(1))\n",
        "Sr_amp_1 = Sr_amp_1[4:]\n",
        "\n",
        "Sr_amp_2 = np.genfromtxt('/content/drive/My Drive/PSD.Sr/F1Sr9000003.csv', delimiter=',', usecols=(1))\n",
        "Sr_amp_2 = Sr_amp_2[4:]\n",
        "\n",
        "Sr_amp_3 = np.genfromtxt('/content/drive/My Drive/PSD.Sr/F1Sr9000006.csv', delimiter=',', usecols=(1))\n",
        "Sr_amp_3 = Sr_amp_3[4:]\n",
        "\n",
        "Sr_amp_4 = np.genfromtxt('/content/drive/My Drive/PSD.Sr/F1Sr9000012.csv', delimiter=',', usecols=(1))\n",
        "Sr_amp_4 = Sr_amp_4[4:]\n",
        "\n",
        "Sr_amp_5 = np.genfromtxt('/content/drive/My Drive/PSD.Sr/F1Sr9000013.csv', delimiter=',', usecols=(1))\n",
        "Sr_amp_5 = Sr_amp_5[4:]\n",
        "\n",
        "Sr_amp_6 = np.genfromtxt('/content/drive/My Drive/PSD.Sr/F1Sr9000020.csv', delimiter=',', usecols=(1))\n",
        "Sr_amp_6 = Sr_amp_6[4:]\n",
        "\n",
        "Sr_amp_7 = np.genfromtxt('/content/drive/My Drive/PSD.Sr/F1Sr9000027.csv', delimiter=',', usecols=(1))\n",
        "Sr_amp_7 = Sr_amp_7[4:]\n",
        "\n",
        "Sr_amp_8 = np.genfromtxt('/content/drive/My Drive/PSD.Sr/F1Sr9000028.csv', delimiter=',', usecols=(1))\n",
        "Sr_amp_8 = Sr_amp_8[4:]\n",
        "\n",
        "Sr_amp_9 = np.genfromtxt('/content/drive/My Drive/PSD.Sr/F1Sr9000029.csv', delimiter=',', usecols=(1))\n",
        "Sr_amp_9 = Sr_amp_9[4:]\n",
        "\n",
        "# Print the shape of the arrays\n",
        "print(Sr_amp_1.shape)\n",
        "print(Sr_amp_2.shape)\n",
        "print(Sr_amp_3.shape)\n",
        "print(Sr_amp_4.shape)\n",
        "print(Sr_amp_5.shape)\n",
        "print(Sr_amp_6.shape)\n",
        "print(Sr_amp_7.shape)\n",
        "print(Sr_amp_8.shape)\n",
        "print(Sr_amp_9.shape)\n",
        "\n",
        "# Print the arrays\n",
        "print(Sr_amp_1)\n",
        "print(Sr_amp_2)\n",
        "print(Sr_amp_3)\n",
        "print(Sr_amp_4)\n",
        "print(Sr_amp_5)\n",
        "print(Sr_amp_6)\n",
        "print(Sr_amp_7)\n",
        "print(Sr_amp_8)\n",
        "print(Sr_amp_9)\n",
        "\n",
        "# Combine the NumPy arrays into one\n",
        "Sr_amp = np.concatenate((Sr_amp_1, Sr_amp_2, Sr_amp_3, Sr_amp_4, Sr_amp_5, Sr_amp_6, Sr_amp_7, Sr_amp_8, Sr_amp_9))\n",
        "print(Sr_amp.shape)"
      ]
    },
    {
      "cell_type": "code",
      "source": [
        "import numpy as np\n",
        "\n",
        "# Load the CSV file into a numpy array\n",
        "Sr_amp_1 = np.genfromtxt('/content/drive/My Drive/PSD.Sr/F1Sr9000001.csv', delimiter=',', usecols=(1))\n",
        "Sr_amp_1 = Sr_amp_1[4:]\n",
        "\n",
        "Sr_amp_2 = np.genfromtxt('/content/drive/My Drive/PSD.Sr/F1Sr9000003.csv', delimiter=',', usecols=(1))\n",
        "Sr_amp_2 = Sr_amp_2[4:]\n",
        "\n",
        "Sr_amp_3 = np.genfromtxt('/content/drive/My Drive/PSD.Sr/F1Sr9000006.csv', delimiter=',', usecols=(1))\n",
        "Sr_amp_3 = Sr_amp_3[4:]\n",
        "\n",
        "Sr_amp_4 = np.genfromtxt('/content/drive/My Drive/PSD.Sr/F1Sr9000012.csv', delimiter=',', usecols=(1))\n",
        "Sr_amp_4 = Sr_amp_4[4:]\n",
        "\n",
        "Sr_amp_5 = np.genfromtxt('/content/drive/My Drive/PSD.Sr/F1Sr9000013.csv', delimiter=',', usecols=(1))\n",
        "Sr_amp_5 = Sr_amp_5[4:]\n",
        "\n",
        "Sr_amp_6 = np.genfromtxt('/content/drive/My Drive/PSD.Sr/F1Sr9000020.csv', delimiter=',', usecols=(1))\n",
        "Sr_amp_6 = Sr_amp_6[4:]\n",
        "\n",
        "Sr_amp_7 = np.genfromtxt('/content/drive/My Drive/PSD.Sr/F1Sr9000027.csv', delimiter=',', usecols=(1))\n",
        "Sr_amp_7 = Sr_amp_7[4:]\n",
        "\n",
        "Sr_amp_8 = np.genfromtxt('/content/drive/My Drive/PSD.Sr/F1Sr9000028.csv', delimiter=',', usecols=(1))\n",
        "Sr_amp_8 = Sr_amp_8[4:]\n",
        "\n",
        "Sr_amp_9 = np.genfromtxt('/content/drive/My Drive/PSD.Sr/F1Sr9000029.csv', delimiter=',', usecols=(1))\n",
        "Sr_amp_9 = Sr_amp_9[4:]\n",
        "\n",
        "# Print the shape of the arrays\n",
        "print(Sr_amp_1.shape)\n",
        "print(Sr_amp_2.shape)\n",
        "print(Sr_amp_3.shape)\n",
        "print(Sr_amp_4.shape)\n",
        "print(Sr_amp_5.shape)\n",
        "print(Sr_amp_6.shape)\n",
        "print(Sr_amp_7.shape)\n",
        "print(Sr_amp_8.shape)\n",
        "print(Sr_amp_9.shape)\n",
        "\n",
        "# Print the arrays\n",
        "print(Sr_amp_1)\n",
        "print(Sr_amp_2)\n",
        "print(Sr_amp_3)\n",
        "print(Sr_amp_4)\n",
        "print(Sr_amp_5)\n",
        "print(Sr_amp_6)\n",
        "print(Sr_amp_7)\n",
        "print(Sr_amp_8)\n",
        "print(Sr_amp_9)\n",
        "\n",
        "# Combine the NumPy arrays into one\n",
        "Sr_amp = np.concatenate((Sr_amp_1, Sr_amp_2, Sr_amp_3, Sr_amp_4, Sr_amp_5, Sr_amp_6, Sr_amp_7, Sr_amp_8, Sr_amp_9))\n",
        "print(Sr_amp.shape)"
      ],
      "metadata": {
        "colab": {
          "base_uri": "https://localhost:8080/"
        },
        "id": "w7o8HuygP61Z",
        "outputId": "d8089cc9-bfeb-4ca0-a38e-20b157dc7ed5"
      },
      "execution_count": null,
      "outputs": [
        {
          "output_type": "stream",
          "name": "stdout",
          "text": [
            "(202324,)\n"
          ]
        }
      ]
    },
    {
      "cell_type": "code",
      "source": [
        "import numpy as np\n",
        "\n",
        "# Load the CSV files into numpy arrays and rename variables\n",
        "area_1 = np.genfromtxt('/content/drive/My Drive/PSD.Sr/F2Sr9000001.csv', delimiter=',', usecols=(1))[4:]\n",
        "area_2 = np.genfromtxt('/content/drive/My Drive/PSD.Sr/F2Sr9000003.csv', delimiter=',', usecols=(1))[4:]\n",
        "area_3 = np.genfromtxt('/content/drive/My Drive/PSD.Sr/F2Sr9000006.csv', delimiter=',', usecols=(1))[4:]\n",
        "area_4 = np.genfromtxt('/content/drive/My Drive/PSD.Sr/F2Sr9000012.csv', delimiter=',', usecols=(1))[4:]\n",
        "area_5 = np.genfromtxt('/content/drive/My Drive/PSD.Sr/F2Sr9000013.csv', delimiter=',', usecols=(1))[4:]\n",
        "area_6 = np.genfromtxt('/content/drive/My Drive/PSD.Sr/F2Sr9000020.csv', delimiter=',', usecols=(1))[4:]\n",
        "area_7 = np.genfromtxt('/content/drive/My Drive/PSD.Sr/F2Sr9000027.csv', delimiter=',', usecols=(1))[4:]\n",
        "area_8 = np.genfromtxt('/content/drive/My Drive/PSD.Sr/F2Sr9000028.csv', delimiter=',', usecols=(1))[4:]\n",
        "area_9 = np.genfromtxt('/content/drive/My Drive/PSD.Sr/F2Sr9000029.csv', delimiter=',', usecols=(1))[4:]\n",
        "\n",
        "# Concatenate the numpy arrays\n",
        "area = np.concatenate((area_1, area_2, area_3, area_4, area_5, area_6, area_7, area_8, area_9))\n",
        "\n",
        "# Print the shape of the concatenated array\n",
        "print(area.shape)\n",
        "\n",
        "# Print the concatenated array\n",
        "print(area)\n"
      ],
      "metadata": {
        "colab": {
          "base_uri": "https://localhost:8080/"
        },
        "id": "2cfC0uErSvqR",
        "outputId": "b6c82960-fe25-4f91-97ce-93e9c939c67c"
      },
      "execution_count": null,
      "outputs": [
        {
          "output_type": "stream",
          "name": "stdout",
          "text": [
            "(202324,)\n",
            "[-4.11765e-10 -4.68750e-10 -5.92157e-10 ... -5.94363e-10 -4.82353e-10\n",
            " -6.50490e-10]\n"
          ]
        }
      ]
    },
    {
      "cell_type": "code",
      "source": [
        "import numpy as np\n",
        "\n",
        "# Load the CSV files into numpy arrays and rename variables\n",
        "area_1 = np.genfromtxt('/content/drive/My Drive/PSD.Sr/F2Sr9000001.csv', delimiter=',', usecols=(1))[4:]\n",
        "area_2 = np.genfromtxt('/content/drive/My Drive/PSD.Sr/F2Sr9000003.csv', delimiter=',', usecols=(1))[4:]\n",
        "area_3 = np.genfromtxt('/content/drive/My Drive/PSD.Sr/F2Sr9000006.csv', delimiter=',', usecols=(1))[4:]\n",
        "area_4 = np.genfromtxt('/content/drive/My Drive/PSD.Sr/F2Sr9000012.csv', delimiter=',', usecols=(1))[4:]\n",
        "area_5 = np.genfromtxt('/content/drive/My Drive/PSD.Sr/F2Sr9000013.csv', delimiter=',', usecols=(1))[4:]\n",
        "area_6 = np.genfromtxt('/content/drive/My Drive/PSD.Sr/F2Sr9000020.csv', delimiter=',', usecols=(1))[4:]\n",
        "area_7 = np.genfromtxt('/content/drive/My Drive/PSD.Sr/F2Sr9000027.csv', delimiter=',', usecols=(1))[4:]\n",
        "area_8 = np.genfromtxt('/content/drive/My Drive/PSD.Sr/F2Sr9000028.csv', delimiter=',', usecols=(1))[4:]\n",
        "area_9 = np.genfromtxt('/content/drive/My Drive/PSD.Sr/F2Sr9000029.csv', delimiter=',', usecols=(1))[4:]\n",
        "\n",
        "# Concatenate the numpy arrays\n",
        "area = np.concatenate((area_1, area_2, area_3, area_4, area_5, area_6, area_7, area_8, area_9))\n",
        "\n",
        "# Print the shape of the concatenated array\n",
        "print(area.shape)\n",
        "\n",
        "# Print the concatenated array\n",
        "print(area)"
      ],
      "metadata": {
        "colab": {
          "base_uri": "https://localhost:8080/"
        },
        "id": "AjUYvf0bT-jK",
        "outputId": "a5795ab2-ad21-419b-f35c-8a53e77d3af0"
      },
      "execution_count": null,
      "outputs": [
        {
          "output_type": "stream",
          "name": "stdout",
          "text": [
            "(202324,)\n",
            "[-4.11765e-10 -4.68750e-10 -5.92157e-10 ... -5.94363e-10 -4.82353e-10\n",
            " -6.50490e-10]\n"
          ]
        }
      ]
    },
    {
      "cell_type": "code",
      "source": [
        "import numpy as np\n",
        "\n",
        "# Load the CSV files into numpy arrays and rename variables\n",
        "FWHM_1 = np.genfromtxt('/content/drive/My Drive/PSD.Sr/F4Sr9000001.csv', delimiter=',', usecols=(1))[4:]\n",
        "FWHM_2 = np.genfromtxt('/content/drive/My Drive/PSD.Sr/F4Sr9000003.csv', delimiter=',', usecols=(1))[4:]\n",
        "FWHM_3 = np.genfromtxt('/content/drive/My Drive/PSD.Sr/F4Sr9000006.csv', delimiter=',', usecols=(1))[4:]\n",
        "FWHM_4 = np.genfromtxt('/content/drive/My Drive/PSD.Sr/F4Sr9000012.csv', delimiter=',', usecols=(1))[4:]\n",
        "FWHM_5 = np.genfromtxt('/content/drive/My Drive/PSD.Sr/F4Sr9000013.csv', delimiter=',', usecols=(1))[4:]\n",
        "FWHM_6 = np.genfromtxt('/content/drive/My Drive/PSD.Sr/F4Sr9000020.csv', delimiter=',', usecols=(1))[4:]\n",
        "FWHM_7 = np.genfromtxt('/content/drive/My Drive/PSD.Sr/F4Sr9000027.csv', delimiter=',', usecols=(1))[4:]\n",
        "FWHM_8 = np.genfromtxt('/content/drive/My Drive/PSD.Sr/F4Sr9000028.csv', delimiter=',', usecols=(1))[4:]\n",
        "FWHM_9 = np.genfromtxt('/content/drive/My Drive/PSD.Sr/F4Sr9000029.csv', delimiter=',', usecols=(1))[4:]\n",
        "\n",
        "# Concatenate the numpy arrays\n",
        "FWHM = np.concatenate((FWHM_1, FWHM_2, FWHM_3, FWHM_4, FWHM_5, FWHM_6, FWHM_7, FWHM_8, FWHM_9))\n",
        "\n",
        "# Print the shape of the concatenated array\n",
        "print(FWHM.shape)\n",
        "\n",
        "# Print the concatenated array\n",
        "print(FWHM)\n"
      ],
      "metadata": {
        "colab": {
          "base_uri": "https://localhost:8080/"
        },
        "id": "3YrHPmK1WiAJ",
        "outputId": "f8c3c2bb-d1ed-4ddb-cbf4-be8dd8480e95"
      },
      "execution_count": null,
      "outputs": [
        {
          "output_type": "stream",
          "name": "stdout",
          "text": [
            "(202324,)\n",
            "[1.09760e-08 1.10625e-08 1.05138e-08 ... 1.07812e-08 1.02180e-08\n",
            " 1.06101e-08]\n"
          ]
        }
      ]
    },
    {
      "cell_type": "code",
      "source": [
        "import numpy as np\n",
        "\n",
        "# Load the CSV files into numpy arrays and rename variables\n",
        "falling_1 = np.genfromtxt('/content/drive/My Drive/PSD.Sr/F6Sr9000001.csv', delimiter=',', usecols=(1))[4:]\n",
        "falling_2 = np.genfromtxt('/content/drive/My Drive/PSD.Sr/F6Sr9000003.csv', delimiter=',', usecols=(1))[4:]\n",
        "falling_3 = np.genfromtxt('/content/drive/My Drive/PSD.Sr/F6Sr9000006.csv', delimiter=',', usecols=(1))[4:]\n",
        "falling_4 = np.genfromtxt('/content/drive/My Drive/PSD.Sr/F6Sr9000012.csv', delimiter=',', usecols=(1))[4:]\n",
        "falling_5 = np.genfromtxt('/content/drive/My Drive/PSD.Sr/F6Sr9000013.csv', delimiter=',', usecols=(1))[4:]\n",
        "falling_6 = np.genfromtxt('/content/drive/My Drive/PSD.Sr/F6Sr9000020.csv', delimiter=',', usecols=(1))[4:]\n",
        "falling_7 = np.genfromtxt('/content/drive/My Drive/PSD.Sr/F6Sr9000027.csv', delimiter=',', usecols=(1))[4:]\n",
        "falling_8 = np.genfromtxt('/content/drive/My Drive/PSD.Sr/F6Sr9000028.csv', delimiter=',', usecols=(1))[4:]\n",
        "falling_9 = np.genfromtxt('/content/drive/My Drive/PSD.Sr/F6Sr9000029.csv', delimiter=',', usecols=(1))[4:]\n",
        "\n",
        "# Concatenate the numpy arrays\n",
        "falling = np.concatenate((falling_1, falling_2, falling_3, falling_4, falling_5, falling_6, falling_7, falling_8, falling_9))\n",
        "\n",
        "# Print the shape of the concatenated array\n",
        "print(falling.shape)\n",
        "\n",
        "# Print the concatenated array\n",
        "print(falling)\n"
      ],
      "metadata": {
        "colab": {
          "base_uri": "https://localhost:8080/"
        },
        "id": "ALEp79zdWi8r",
        "outputId": "1763e086-d641-48a2-c689-e1afe65f8b95"
      },
      "execution_count": null,
      "outputs": [
        {
          "output_type": "stream",
          "name": "stdout",
          "text": [
            "(202324,)\n",
            "[2.58594e-09 2.67117e-09 2.45611e-09 ... 2.85141e-09 2.56956e-09\n",
            " 2.80063e-09]\n"
          ]
        }
      ]
    },
    {
      "cell_type": "code",
      "source": [
        "import numpy as np\n",
        "\n",
        "# Load the CSV files into numpy arrays and rename variables\n",
        "rising_1 = np.genfromtxt('/content/drive/My Drive/PSD.Sr/F8Sr9000001.csv', delimiter=',', usecols=(1))[4:]\n",
        "rising_2 = np.genfromtxt('/content/drive/My Drive/PSD.Sr/F8Sr9000003.csv', delimiter=',', usecols=(1))[4:]\n",
        "rising_3 = np.genfromtxt('/content/drive/My Drive/PSD.Sr/F8Sr9000006.csv', delimiter=',', usecols=(1))[4:]\n",
        "rising_4 = np.genfromtxt('/content/drive/My Drive/PSD.Sr/F8Sr9000012.csv', delimiter=',', usecols=(1))[4:]\n",
        "rising_5 = np.genfromtxt('/content/drive/My Drive/PSD.Sr/F8Sr9000013.csv', delimiter=',', usecols=(1))[4:]\n",
        "rising_6 = np.genfromtxt('/content/drive/My Drive/PSD.Sr/F8Sr9000020.csv', delimiter=',', usecols=(1))[4:]\n",
        "rising_7 = np.genfromtxt('/content/drive/My Drive/PSD.Sr/F8Sr9000027.csv', delimiter=',', usecols=(1))[4:]\n",
        "rising_8 = np.genfromtxt('/content/drive/My Drive/PSD.Sr/F8Sr9000028.csv', delimiter=',', usecols=(1))[4:]\n",
        "rising_9 = np.genfromtxt('/content/drive/My Drive/PSD.Sr/F8Sr9000029.csv', delimiter=',', usecols=(1))[4:]\n",
        "\n",
        "# Concatenate the numpy arrays\n",
        "rising = np.concatenate((rising_1, rising_2, rising_3, rising_4, rising_5, rising_6, rising_7, rising_8, rising_9))\n",
        "\n",
        "# Print the shape of the concatenated array\n",
        "print(rising.shape)\n",
        "\n",
        "# Print the concatenated array\n",
        "print(rising)\n"
      ],
      "metadata": {
        "colab": {
          "base_uri": "https://localhost:8080/"
        },
        "id": "hKkyKnjBXHC3",
        "outputId": "7b2ee50a-d3e9-47d6-a2c8-ed785d968fdd"
      },
      "execution_count": null,
      "outputs": [
        {
          "output_type": "stream",
          "name": "stdout",
          "text": [
            "(202324,)\n",
            "[1.19295e-08 1.14716e-08 1.00443e-08 ... 1.17873e-08 1.11607e-08\n",
            " 1.13750e-08]\n"
          ]
        }
      ]
    },
    {
      "cell_type": "code",
      "source": [
        "import numpy as np\n",
        "\n",
        "# Define column names\n",
        "add_clos = ['amp', 'area', 'FWHM', 'failing', 'rising'] \n",
        "# Stack arrays horizontally with column names\n",
        "add_arrays = [Sr_amp, area, FWHM, falling, rising]\n",
        "data_array = np.column_stack((add_arrays)).astype(float)\n",
        "\n",
        "from google.colab import drive\n",
        "drive.mount('/content/drive')\n",
        "\n",
        "import pandas as pd\n",
        "\n",
        "# Convert data_array to a pandas DataFrame\n",
        "df = pd.DataFrame(data_array, columns = add_clos)\n",
        "\n",
        "# Save the DataFrame as a CSV file in your Google Drive\n",
        "file_path = '/content/drive/MyDrive/autoPSD.Sr90-2/PSD - Sr90_200k.csv'\n",
        "df.to_csv(file_path, index=False)"
      ],
      "metadata": {
        "colab": {
          "base_uri": "https://localhost:8080/"
        },
        "id": "cUZRR5A9XNLZ",
        "outputId": "91940253-28ff-4ea5-c953-620d600fe2ff"
      },
      "execution_count": null,
      "outputs": [
        {
          "output_type": "stream",
          "name": "stdout",
          "text": [
            "Drive already mounted at /content/drive; to attempt to forcibly remount, call drive.mount(\"/content/drive\", force_remount=True).\n"
          ]
        }
      ]
    },
    {
      "cell_type": "markdown",
      "source": [
        "###2. Cf252"
      ],
      "metadata": {
        "id": "8iCzI6UM3KAF"
      }
    },
    {
      "cell_type": "code",
      "source": [
        "Cf_amp = np.empty(0)\n",
        "\n",
        "for i in range(56):\n",
        "    filename = f'/content/drive/My Drive/PSD.Cf252/F1Cf252{i:05d}.csv'\n",
        "    data = np.genfromtxt(filename, delimiter=',', usecols=(1))\n",
        "    data = data[4:]\n",
        "    print(f\"Shape of {filename}: {data.shape}\")\n",
        "    Cf_amp = np.concatenate([Cf_amp, data])\n",
        "\n",
        "print(f\"Shape of Cf_amp: {Cf_amp.shape}\")\n",
        "print(Cf_amp)\n"
      ],
      "metadata": {
        "colab": {
          "base_uri": "https://localhost:8080/"
        },
        "id": "3kfMZ6s8rHjI",
        "outputId": "3dadbba9-6931-4a07-993e-275b60624d24"
      },
      "execution_count": null,
      "outputs": [
        {
          "output_type": "stream",
          "name": "stdout",
          "text": [
            "Shape of /content/drive/My Drive/PSD.Cf252/F1Cf25200000.csv: (2338,)\n",
            "Shape of /content/drive/My Drive/PSD.Cf252/F1Cf25200001.csv: (1016,)\n",
            "Shape of /content/drive/My Drive/PSD.Cf252/F1Cf25200002.csv: (704,)\n",
            "Shape of /content/drive/My Drive/PSD.Cf252/F1Cf25200003.csv: (1236,)\n",
            "Shape of /content/drive/My Drive/PSD.Cf252/F1Cf25200004.csv: (1023,)\n",
            "Shape of /content/drive/My Drive/PSD.Cf252/F1Cf25200005.csv: (820,)\n",
            "Shape of /content/drive/My Drive/PSD.Cf252/F1Cf25200006.csv: (940,)\n",
            "Shape of /content/drive/My Drive/PSD.Cf252/F1Cf25200007.csv: (962,)\n",
            "Shape of /content/drive/My Drive/PSD.Cf252/F1Cf25200008.csv: (1060,)\n",
            "Shape of /content/drive/My Drive/PSD.Cf252/F1Cf25200009.csv: (931,)\n",
            "Shape of /content/drive/My Drive/PSD.Cf252/F1Cf25200010.csv: (985,)\n",
            "Shape of /content/drive/My Drive/PSD.Cf252/F1Cf25200011.csv: (972,)\n",
            "Shape of /content/drive/My Drive/PSD.Cf252/F1Cf25200012.csv: (1115,)\n",
            "Shape of /content/drive/My Drive/PSD.Cf252/F1Cf25200013.csv: (1218,)\n",
            "Shape of /content/drive/My Drive/PSD.Cf252/F1Cf25200014.csv: (1125,)\n",
            "Shape of /content/drive/My Drive/PSD.Cf252/F1Cf25200015.csv: (1122,)\n",
            "Shape of /content/drive/My Drive/PSD.Cf252/F1Cf25200016.csv: (1029,)\n",
            "Shape of /content/drive/My Drive/PSD.Cf252/F1Cf25200017.csv: (1162,)\n",
            "Shape of /content/drive/My Drive/PSD.Cf252/F1Cf25200018.csv: (688,)\n",
            "Shape of /content/drive/My Drive/PSD.Cf252/F1Cf25200019.csv: (721,)\n",
            "Shape of /content/drive/My Drive/PSD.Cf252/F1Cf25200020.csv: (846,)\n",
            "Shape of /content/drive/My Drive/PSD.Cf252/F1Cf25200021.csv: (1003,)\n",
            "Shape of /content/drive/My Drive/PSD.Cf252/F1Cf25200022.csv: (763,)\n",
            "Shape of /content/drive/My Drive/PSD.Cf252/F1Cf25200023.csv: (761,)\n",
            "Shape of /content/drive/My Drive/PSD.Cf252/F1Cf25200024.csv: (915,)\n",
            "Shape of /content/drive/My Drive/PSD.Cf252/F1Cf25200025.csv: (1166,)\n",
            "Shape of /content/drive/My Drive/PSD.Cf252/F1Cf25200026.csv: (979,)\n",
            "Shape of /content/drive/My Drive/PSD.Cf252/F1Cf25200027.csv: (696,)\n",
            "Shape of /content/drive/My Drive/PSD.Cf252/F1Cf25200028.csv: (1039,)\n",
            "Shape of /content/drive/My Drive/PSD.Cf252/F1Cf25200029.csv: (1423,)\n",
            "Shape of /content/drive/My Drive/PSD.Cf252/F1Cf25200030.csv: (1672,)\n",
            "Shape of /content/drive/My Drive/PSD.Cf252/F1Cf25200031.csv: (991,)\n",
            "Shape of /content/drive/My Drive/PSD.Cf252/F1Cf25200032.csv: (958,)\n",
            "Shape of /content/drive/My Drive/PSD.Cf252/F1Cf25200033.csv: (1539,)\n",
            "Shape of /content/drive/My Drive/PSD.Cf252/F1Cf25200034.csv: (613,)\n",
            "Shape of /content/drive/My Drive/PSD.Cf252/F1Cf25200035.csv: (1346,)\n",
            "Shape of /content/drive/My Drive/PSD.Cf252/F1Cf25200036.csv: (1212,)\n",
            "Shape of /content/drive/My Drive/PSD.Cf252/F1Cf25200037.csv: (557,)\n",
            "Shape of /content/drive/My Drive/PSD.Cf252/F1Cf25200038.csv: (1309,)\n",
            "Shape of /content/drive/My Drive/PSD.Cf252/F1Cf25200039.csv: (1659,)\n",
            "Shape of /content/drive/My Drive/PSD.Cf252/F1Cf25200040.csv: (1651,)\n",
            "Shape of /content/drive/My Drive/PSD.Cf252/F1Cf25200041.csv: (1151,)\n",
            "Shape of /content/drive/My Drive/PSD.Cf252/F1Cf25200042.csv: (1351,)\n",
            "Shape of /content/drive/My Drive/PSD.Cf252/F1Cf25200043.csv: (1240,)\n",
            "Shape of /content/drive/My Drive/PSD.Cf252/F1Cf25200044.csv: (1195,)\n",
            "Shape of /content/drive/My Drive/PSD.Cf252/F1Cf25200045.csv: (1284,)\n",
            "Shape of /content/drive/My Drive/PSD.Cf252/F1Cf25200046.csv: (1139,)\n",
            "Shape of /content/drive/My Drive/PSD.Cf252/F1Cf25200047.csv: (1451,)\n",
            "Shape of /content/drive/My Drive/PSD.Cf252/F1Cf25200048.csv: (1300,)\n",
            "Shape of /content/drive/My Drive/PSD.Cf252/F1Cf25200049.csv: (1461,)\n",
            "Shape of /content/drive/My Drive/PSD.Cf252/F1Cf25200050.csv: (1188,)\n",
            "Shape of /content/drive/My Drive/PSD.Cf252/F1Cf25200051.csv: (1258,)\n",
            "Shape of /content/drive/My Drive/PSD.Cf252/F1Cf25200052.csv: (1021,)\n",
            "Shape of /content/drive/My Drive/PSD.Cf252/F1Cf25200053.csv: (1411,)\n",
            "Shape of /content/drive/My Drive/PSD.Cf252/F1Cf25200054.csv: (1177,)\n",
            "Shape of /content/drive/My Drive/PSD.Cf252/F1Cf25200055.csv: (760,)\n",
            "Shape of Cf_amp: (62652,)\n",
            "[0.0838582 0.0365806 0.028791  ... 0.0662694 0.0358834 0.0326842]\n"
          ]
        }
      ]
    },
    {
      "cell_type": "code",
      "source": [
        "Cf_area = np.empty(0)\n",
        "\n",
        "for i in range(56):\n",
        "    filename = f'/content/drive/My Drive/PSD.Cf252/F2Cf252{i:05d}.csv'\n",
        "    data = np.genfromtxt(filename, delimiter=',', usecols=(1))\n",
        "    data = data[4:]\n",
        "    print(f\"Shape of {filename}: {data.shape}\")\n",
        "    Cf_area = np.concatenate([Cf_area, data])\n",
        "\n",
        "print(f\"Shape of Cf_area: {Cf_area.shape}\")\n",
        "print(Cf_area)\n"
      ],
      "metadata": {
        "colab": {
          "base_uri": "https://localhost:8080/"
        },
        "id": "V6Yeu3OLro_r",
        "outputId": "72161d6f-7e20-427f-da5c-728db5326114"
      },
      "execution_count": null,
      "outputs": [
        {
          "output_type": "stream",
          "name": "stdout",
          "text": [
            "Shape of /content/drive/My Drive/PSD.Cf252/F2Cf25200000.csv: (2338,)\n",
            "Shape of /content/drive/My Drive/PSD.Cf252/F2Cf25200001.csv: (1016,)\n",
            "Shape of /content/drive/My Drive/PSD.Cf252/F2Cf25200002.csv: (704,)\n",
            "Shape of /content/drive/My Drive/PSD.Cf252/F2Cf25200003.csv: (1236,)\n",
            "Shape of /content/drive/My Drive/PSD.Cf252/F2Cf25200004.csv: (1023,)\n",
            "Shape of /content/drive/My Drive/PSD.Cf252/F2Cf25200005.csv: (820,)\n",
            "Shape of /content/drive/My Drive/PSD.Cf252/F2Cf25200006.csv: (940,)\n",
            "Shape of /content/drive/My Drive/PSD.Cf252/F2Cf25200007.csv: (962,)\n",
            "Shape of /content/drive/My Drive/PSD.Cf252/F2Cf25200008.csv: (1060,)\n",
            "Shape of /content/drive/My Drive/PSD.Cf252/F2Cf25200009.csv: (931,)\n",
            "Shape of /content/drive/My Drive/PSD.Cf252/F2Cf25200010.csv: (985,)\n",
            "Shape of /content/drive/My Drive/PSD.Cf252/F2Cf25200011.csv: (972,)\n",
            "Shape of /content/drive/My Drive/PSD.Cf252/F2Cf25200012.csv: (1115,)\n",
            "Shape of /content/drive/My Drive/PSD.Cf252/F2Cf25200013.csv: (1218,)\n",
            "Shape of /content/drive/My Drive/PSD.Cf252/F2Cf25200014.csv: (1125,)\n",
            "Shape of /content/drive/My Drive/PSD.Cf252/F2Cf25200015.csv: (1122,)\n",
            "Shape of /content/drive/My Drive/PSD.Cf252/F2Cf25200016.csv: (1029,)\n",
            "Shape of /content/drive/My Drive/PSD.Cf252/F2Cf25200017.csv: (1162,)\n",
            "Shape of /content/drive/My Drive/PSD.Cf252/F2Cf25200018.csv: (688,)\n",
            "Shape of /content/drive/My Drive/PSD.Cf252/F2Cf25200019.csv: (721,)\n",
            "Shape of /content/drive/My Drive/PSD.Cf252/F2Cf25200020.csv: (846,)\n",
            "Shape of /content/drive/My Drive/PSD.Cf252/F2Cf25200021.csv: (1003,)\n",
            "Shape of /content/drive/My Drive/PSD.Cf252/F2Cf25200022.csv: (763,)\n",
            "Shape of /content/drive/My Drive/PSD.Cf252/F2Cf25200023.csv: (761,)\n",
            "Shape of /content/drive/My Drive/PSD.Cf252/F2Cf25200024.csv: (915,)\n",
            "Shape of /content/drive/My Drive/PSD.Cf252/F2Cf25200025.csv: (1166,)\n",
            "Shape of /content/drive/My Drive/PSD.Cf252/F2Cf25200026.csv: (979,)\n",
            "Shape of /content/drive/My Drive/PSD.Cf252/F2Cf25200027.csv: (696,)\n",
            "Shape of /content/drive/My Drive/PSD.Cf252/F2Cf25200028.csv: (1039,)\n",
            "Shape of /content/drive/My Drive/PSD.Cf252/F2Cf25200029.csv: (1423,)\n",
            "Shape of /content/drive/My Drive/PSD.Cf252/F2Cf25200030.csv: (1672,)\n",
            "Shape of /content/drive/My Drive/PSD.Cf252/F2Cf25200031.csv: (991,)\n",
            "Shape of /content/drive/My Drive/PSD.Cf252/F2Cf25200032.csv: (958,)\n",
            "Shape of /content/drive/My Drive/PSD.Cf252/F2Cf25200033.csv: (1539,)\n",
            "Shape of /content/drive/My Drive/PSD.Cf252/F2Cf25200034.csv: (613,)\n",
            "Shape of /content/drive/My Drive/PSD.Cf252/F2Cf25200035.csv: (1346,)\n",
            "Shape of /content/drive/My Drive/PSD.Cf252/F2Cf25200036.csv: (1212,)\n",
            "Shape of /content/drive/My Drive/PSD.Cf252/F2Cf25200037.csv: (557,)\n",
            "Shape of /content/drive/My Drive/PSD.Cf252/F2Cf25200038.csv: (1309,)\n",
            "Shape of /content/drive/My Drive/PSD.Cf252/F2Cf25200039.csv: (1659,)\n",
            "Shape of /content/drive/My Drive/PSD.Cf252/F2Cf25200040.csv: (1651,)\n",
            "Shape of /content/drive/My Drive/PSD.Cf252/F2Cf25200041.csv: (1151,)\n",
            "Shape of /content/drive/My Drive/PSD.Cf252/F2Cf25200042.csv: (1351,)\n",
            "Shape of /content/drive/My Drive/PSD.Cf252/F2Cf25200043.csv: (1240,)\n",
            "Shape of /content/drive/My Drive/PSD.Cf252/F2Cf25200044.csv: (1195,)\n",
            "Shape of /content/drive/My Drive/PSD.Cf252/F2Cf25200045.csv: (1284,)\n",
            "Shape of /content/drive/My Drive/PSD.Cf252/F2Cf25200046.csv: (1139,)\n",
            "Shape of /content/drive/My Drive/PSD.Cf252/F2Cf25200047.csv: (1451,)\n",
            "Shape of /content/drive/My Drive/PSD.Cf252/F2Cf25200048.csv: (1300,)\n",
            "Shape of /content/drive/My Drive/PSD.Cf252/F2Cf25200049.csv: (1461,)\n",
            "Shape of /content/drive/My Drive/PSD.Cf252/F2Cf25200050.csv: (1188,)\n",
            "Shape of /content/drive/My Drive/PSD.Cf252/F2Cf25200051.csv: (1258,)\n",
            "Shape of /content/drive/My Drive/PSD.Cf252/F2Cf25200052.csv: (1021,)\n",
            "Shape of /content/drive/My Drive/PSD.Cf252/F2Cf25200053.csv: (1411,)\n",
            "Shape of /content/drive/My Drive/PSD.Cf252/F2Cf25200054.csv: (1177,)\n",
            "Shape of /content/drive/My Drive/PSD.Cf252/F2Cf25200055.csv: (760,)\n",
            "Shape of Cf_area: (62652,)\n",
            "[-1.17353e-09 -4.76716e-10 -4.09314e-10 ... -9.00553e-10 -5.03861e-10\n",
            " -4.43322e-10]\n"
          ]
        }
      ]
    },
    {
      "cell_type": "code",
      "source": [
        "Cf_FWHM = np.empty(0)\n",
        "\n",
        "for i in range(56):\n",
        "    filename = f'/content/drive/My Drive/PSD.Cf252/F4Cf252{i:05d}.csv'\n",
        "    data = np.genfromtxt(filename, delimiter=',', usecols=(1))\n",
        "    data = data[4:]\n",
        "    print(f\"Shape of {filename}: {data.shape}\")\n",
        "    Cf_FWHM = np.concatenate([Cf_FWHM, data])\n",
        "\n",
        "print(f\"Shape of Cf_FWHM: {Cf_FWHM.shape}\")\n",
        "print(Cf_FWHM)\n"
      ],
      "metadata": {
        "colab": {
          "base_uri": "https://localhost:8080/"
        },
        "id": "BglbU8KLsY6W",
        "outputId": "0f2aa41a-7d6a-46a3-f090-247d03543826"
      },
      "execution_count": null,
      "outputs": [
        {
          "output_type": "stream",
          "name": "stdout",
          "text": [
            "Shape of /content/drive/My Drive/PSD.Cf252/F4Cf25200000.csv: (2338,)\n",
            "Shape of /content/drive/My Drive/PSD.Cf252/F4Cf25200001.csv: (1016,)\n",
            "Shape of /content/drive/My Drive/PSD.Cf252/F4Cf25200002.csv: (704,)\n",
            "Shape of /content/drive/My Drive/PSD.Cf252/F4Cf25200003.csv: (1236,)\n",
            "Shape of /content/drive/My Drive/PSD.Cf252/F4Cf25200004.csv: (1023,)\n",
            "Shape of /content/drive/My Drive/PSD.Cf252/F4Cf25200005.csv: (820,)\n",
            "Shape of /content/drive/My Drive/PSD.Cf252/F4Cf25200006.csv: (940,)\n",
            "Shape of /content/drive/My Drive/PSD.Cf252/F4Cf25200007.csv: (962,)\n",
            "Shape of /content/drive/My Drive/PSD.Cf252/F4Cf25200008.csv: (1060,)\n",
            "Shape of /content/drive/My Drive/PSD.Cf252/F4Cf25200009.csv: (931,)\n",
            "Shape of /content/drive/My Drive/PSD.Cf252/F4Cf25200010.csv: (985,)\n",
            "Shape of /content/drive/My Drive/PSD.Cf252/F4Cf25200011.csv: (972,)\n",
            "Shape of /content/drive/My Drive/PSD.Cf252/F4Cf25200012.csv: (1115,)\n",
            "Shape of /content/drive/My Drive/PSD.Cf252/F4Cf25200013.csv: (1218,)\n",
            "Shape of /content/drive/My Drive/PSD.Cf252/F4Cf25200014.csv: (1125,)\n",
            "Shape of /content/drive/My Drive/PSD.Cf252/F4Cf25200015.csv: (1122,)\n",
            "Shape of /content/drive/My Drive/PSD.Cf252/F4Cf25200016.csv: (1029,)\n",
            "Shape of /content/drive/My Drive/PSD.Cf252/F4Cf25200017.csv: (1162,)\n",
            "Shape of /content/drive/My Drive/PSD.Cf252/F4Cf25200018.csv: (688,)\n",
            "Shape of /content/drive/My Drive/PSD.Cf252/F4Cf25200019.csv: (721,)\n",
            "Shape of /content/drive/My Drive/PSD.Cf252/F4Cf25200020.csv: (846,)\n",
            "Shape of /content/drive/My Drive/PSD.Cf252/F4Cf25200021.csv: (1003,)\n",
            "Shape of /content/drive/My Drive/PSD.Cf252/F4Cf25200022.csv: (763,)\n",
            "Shape of /content/drive/My Drive/PSD.Cf252/F4Cf25200023.csv: (761,)\n",
            "Shape of /content/drive/My Drive/PSD.Cf252/F4Cf25200024.csv: (915,)\n",
            "Shape of /content/drive/My Drive/PSD.Cf252/F4Cf25200025.csv: (1166,)\n",
            "Shape of /content/drive/My Drive/PSD.Cf252/F4Cf25200026.csv: (979,)\n",
            "Shape of /content/drive/My Drive/PSD.Cf252/F4Cf25200027.csv: (696,)\n",
            "Shape of /content/drive/My Drive/PSD.Cf252/F4Cf25200028.csv: (1039,)\n",
            "Shape of /content/drive/My Drive/PSD.Cf252/F4Cf25200029.csv: (1423,)\n",
            "Shape of /content/drive/My Drive/PSD.Cf252/F4Cf25200030.csv: (1672,)\n",
            "Shape of /content/drive/My Drive/PSD.Cf252/F4Cf25200031.csv: (991,)\n",
            "Shape of /content/drive/My Drive/PSD.Cf252/F4Cf25200032.csv: (958,)\n",
            "Shape of /content/drive/My Drive/PSD.Cf252/F4Cf25200033.csv: (1539,)\n",
            "Shape of /content/drive/My Drive/PSD.Cf252/F4Cf25200034.csv: (613,)\n",
            "Shape of /content/drive/My Drive/PSD.Cf252/F4Cf25200035.csv: (1346,)\n",
            "Shape of /content/drive/My Drive/PSD.Cf252/F4Cf25200036.csv: (1212,)\n",
            "Shape of /content/drive/My Drive/PSD.Cf252/F4Cf25200037.csv: (557,)\n",
            "Shape of /content/drive/My Drive/PSD.Cf252/F4Cf25200038.csv: (1309,)\n",
            "Shape of /content/drive/My Drive/PSD.Cf252/F4Cf25200039.csv: (1659,)\n",
            "Shape of /content/drive/My Drive/PSD.Cf252/F4Cf25200040.csv: (1651,)\n",
            "Shape of /content/drive/My Drive/PSD.Cf252/F4Cf25200041.csv: (1151,)\n",
            "Shape of /content/drive/My Drive/PSD.Cf252/F4Cf25200042.csv: (1351,)\n",
            "Shape of /content/drive/My Drive/PSD.Cf252/F4Cf25200043.csv: (1240,)\n",
            "Shape of /content/drive/My Drive/PSD.Cf252/F4Cf25200044.csv: (1195,)\n",
            "Shape of /content/drive/My Drive/PSD.Cf252/F4Cf25200045.csv: (1284,)\n",
            "Shape of /content/drive/My Drive/PSD.Cf252/F4Cf25200046.csv: (1139,)\n",
            "Shape of /content/drive/My Drive/PSD.Cf252/F4Cf25200047.csv: (1451,)\n",
            "Shape of /content/drive/My Drive/PSD.Cf252/F4Cf25200048.csv: (1300,)\n",
            "Shape of /content/drive/My Drive/PSD.Cf252/F4Cf25200049.csv: (1461,)\n",
            "Shape of /content/drive/My Drive/PSD.Cf252/F4Cf25200050.csv: (1188,)\n",
            "Shape of /content/drive/My Drive/PSD.Cf252/F4Cf25200051.csv: (1258,)\n",
            "Shape of /content/drive/My Drive/PSD.Cf252/F4Cf25200052.csv: (1021,)\n",
            "Shape of /content/drive/My Drive/PSD.Cf252/F4Cf25200053.csv: (1411,)\n",
            "Shape of /content/drive/My Drive/PSD.Cf252/F4Cf25200054.csv: (1177,)\n",
            "Shape of /content/drive/My Drive/PSD.Cf252/F4Cf25200055.csv: (760,)\n",
            "Shape of Cf_FWHM: (62652,)\n",
            "[1.06949e-08 1.08315e-08 1.13323e-08 ... 1.03894e-08 1.06144e-08\n",
            " 1.04004e-08]\n"
          ]
        }
      ]
    },
    {
      "cell_type": "code",
      "source": [
        "Cf_falling = np.empty(0)\n",
        "\n",
        "for i in range(56):\n",
        "    filename = f'/content/drive/My Drive/PSD.Cf252/F6Cf252{i:05d}.csv'\n",
        "    data = np.genfromtxt(filename, delimiter=',', usecols=(1))\n",
        "    data = data[4:]\n",
        "    print(f\"Shape of {filename}: {data.shape}\")\n",
        "    Cf_falling = np.concatenate([Cf_falling, data])\n",
        "\n",
        "print(f\"Shape of Cf_falling: {Cf_falling.shape}\")\n",
        "print(Cf_falling)\n"
      ],
      "metadata": {
        "colab": {
          "base_uri": "https://localhost:8080/"
        },
        "id": "nJaVW_jvsrOC",
        "outputId": "540412d8-4de0-422f-87e8-df2487a156bd"
      },
      "execution_count": null,
      "outputs": [
        {
          "output_type": "stream",
          "name": "stdout",
          "text": [
            "Shape of /content/drive/My Drive/PSD.Cf252/F6Cf25200000.csv: (2338,)\n",
            "Shape of /content/drive/My Drive/PSD.Cf252/F6Cf25200001.csv: (1016,)\n",
            "Shape of /content/drive/My Drive/PSD.Cf252/F6Cf25200002.csv: (704,)\n",
            "Shape of /content/drive/My Drive/PSD.Cf252/F6Cf25200003.csv: (1236,)\n",
            "Shape of /content/drive/My Drive/PSD.Cf252/F6Cf25200004.csv: (1023,)\n",
            "Shape of /content/drive/My Drive/PSD.Cf252/F6Cf25200005.csv: (820,)\n",
            "Shape of /content/drive/My Drive/PSD.Cf252/F6Cf25200006.csv: (940,)\n",
            "Shape of /content/drive/My Drive/PSD.Cf252/F6Cf25200007.csv: (962,)\n",
            "Shape of /content/drive/My Drive/PSD.Cf252/F6Cf25200008.csv: (1060,)\n",
            "Shape of /content/drive/My Drive/PSD.Cf252/F6Cf25200009.csv: (931,)\n",
            "Shape of /content/drive/My Drive/PSD.Cf252/F6Cf25200010.csv: (985,)\n",
            "Shape of /content/drive/My Drive/PSD.Cf252/F6Cf25200011.csv: (972,)\n",
            "Shape of /content/drive/My Drive/PSD.Cf252/F6Cf25200012.csv: (1115,)\n",
            "Shape of /content/drive/My Drive/PSD.Cf252/F6Cf25200013.csv: (1218,)\n",
            "Shape of /content/drive/My Drive/PSD.Cf252/F6Cf25200014.csv: (1125,)\n",
            "Shape of /content/drive/My Drive/PSD.Cf252/F6Cf25200015.csv: (1122,)\n",
            "Shape of /content/drive/My Drive/PSD.Cf252/F6Cf25200016.csv: (1029,)\n",
            "Shape of /content/drive/My Drive/PSD.Cf252/F6Cf25200017.csv: (1162,)\n",
            "Shape of /content/drive/My Drive/PSD.Cf252/F6Cf25200018.csv: (688,)\n",
            "Shape of /content/drive/My Drive/PSD.Cf252/F6Cf25200019.csv: (721,)\n",
            "Shape of /content/drive/My Drive/PSD.Cf252/F6Cf25200020.csv: (846,)\n",
            "Shape of /content/drive/My Drive/PSD.Cf252/F6Cf25200021.csv: (1003,)\n",
            "Shape of /content/drive/My Drive/PSD.Cf252/F6Cf25200022.csv: (763,)\n",
            "Shape of /content/drive/My Drive/PSD.Cf252/F6Cf25200023.csv: (761,)\n",
            "Shape of /content/drive/My Drive/PSD.Cf252/F6Cf25200024.csv: (915,)\n",
            "Shape of /content/drive/My Drive/PSD.Cf252/F6Cf25200025.csv: (1166,)\n",
            "Shape of /content/drive/My Drive/PSD.Cf252/F6Cf25200026.csv: (979,)\n",
            "Shape of /content/drive/My Drive/PSD.Cf252/F6Cf25200027.csv: (696,)\n",
            "Shape of /content/drive/My Drive/PSD.Cf252/F6Cf25200028.csv: (1039,)\n",
            "Shape of /content/drive/My Drive/PSD.Cf252/F6Cf25200029.csv: (1423,)\n",
            "Shape of /content/drive/My Drive/PSD.Cf252/F6Cf25200030.csv: (1672,)\n",
            "Shape of /content/drive/My Drive/PSD.Cf252/F6Cf25200031.csv: (991,)\n",
            "Shape of /content/drive/My Drive/PSD.Cf252/F6Cf25200032.csv: (958,)\n",
            "Shape of /content/drive/My Drive/PSD.Cf252/F6Cf25200033.csv: (1539,)\n",
            "Shape of /content/drive/My Drive/PSD.Cf252/F6Cf25200034.csv: (613,)\n",
            "Shape of /content/drive/My Drive/PSD.Cf252/F6Cf25200035.csv: (1346,)\n",
            "Shape of /content/drive/My Drive/PSD.Cf252/F6Cf25200036.csv: (1212,)\n",
            "Shape of /content/drive/My Drive/PSD.Cf252/F6Cf25200037.csv: (557,)\n",
            "Shape of /content/drive/My Drive/PSD.Cf252/F6Cf25200038.csv: (1309,)\n",
            "Shape of /content/drive/My Drive/PSD.Cf252/F6Cf25200039.csv: (1659,)\n",
            "Shape of /content/drive/My Drive/PSD.Cf252/F6Cf25200040.csv: (1651,)\n",
            "Shape of /content/drive/My Drive/PSD.Cf252/F6Cf25200041.csv: (1151,)\n",
            "Shape of /content/drive/My Drive/PSD.Cf252/F6Cf25200042.csv: (1351,)\n",
            "Shape of /content/drive/My Drive/PSD.Cf252/F6Cf25200043.csv: (1240,)\n",
            "Shape of /content/drive/My Drive/PSD.Cf252/F6Cf25200044.csv: (1195,)\n",
            "Shape of /content/drive/My Drive/PSD.Cf252/F6Cf25200045.csv: (1284,)\n",
            "Shape of /content/drive/My Drive/PSD.Cf252/F6Cf25200046.csv: (1139,)\n",
            "Shape of /content/drive/My Drive/PSD.Cf252/F6Cf25200047.csv: (1451,)\n",
            "Shape of /content/drive/My Drive/PSD.Cf252/F6Cf25200048.csv: (1300,)\n",
            "Shape of /content/drive/My Drive/PSD.Cf252/F6Cf25200049.csv: (1461,)\n",
            "Shape of /content/drive/My Drive/PSD.Cf252/F6Cf25200050.csv: (1188,)\n",
            "Shape of /content/drive/My Drive/PSD.Cf252/F6Cf25200051.csv: (1258,)\n",
            "Shape of /content/drive/My Drive/PSD.Cf252/F6Cf25200052.csv: (1021,)\n",
            "Shape of /content/drive/My Drive/PSD.Cf252/F6Cf25200053.csv: (1411,)\n",
            "Shape of /content/drive/My Drive/PSD.Cf252/F6Cf25200054.csv: (1177,)\n",
            "Shape of /content/drive/My Drive/PSD.Cf252/F6Cf25200055.csv: (760,)\n",
            "Shape of Cf_falling: (62652,)\n",
            "[2.32324e-09 2.48190e-09 2.26827e-09 ... 2.52411e-09 2.86688e-09\n",
            " 2.55575e-09]\n"
          ]
        }
      ]
    },
    {
      "cell_type": "code",
      "source": [
        "Cf_rising = np.empty(0)\n",
        "\n",
        "for i in range(56):\n",
        "    filename = f'/content/drive/My Drive/PSD.Cf252/F8Cf252{i:05d}.csv'\n",
        "    data = np.genfromtxt(filename, delimiter=',', usecols=(1))\n",
        "    data = data[4:]\n",
        "    print(f\"Shape of {filename}: {data.shape}\")\n",
        "    Cf_rising = np.concatenate([Cf_rising, data])\n",
        "\n",
        "print(f\"Shape of Cf_rising: {Cf_rising.shape}\")\n",
        "print(Cf_rising)\n"
      ],
      "metadata": {
        "colab": {
          "base_uri": "https://localhost:8080/"
        },
        "id": "HOKl8thms2e6",
        "outputId": "cac62e76-c639-4874-9a15-314eca0c6aec"
      },
      "execution_count": null,
      "outputs": [
        {
          "output_type": "stream",
          "name": "stdout",
          "text": [
            "Shape of /content/drive/My Drive/PSD.Cf252/F8Cf25200000.csv: (2338,)\n",
            "Shape of /content/drive/My Drive/PSD.Cf252/F8Cf25200001.csv: (1016,)\n",
            "Shape of /content/drive/My Drive/PSD.Cf252/F8Cf25200002.csv: (704,)\n",
            "Shape of /content/drive/My Drive/PSD.Cf252/F8Cf25200003.csv: (1236,)\n",
            "Shape of /content/drive/My Drive/PSD.Cf252/F8Cf25200004.csv: (1023,)\n",
            "Shape of /content/drive/My Drive/PSD.Cf252/F8Cf25200005.csv: (820,)\n",
            "Shape of /content/drive/My Drive/PSD.Cf252/F8Cf25200006.csv: (940,)\n",
            "Shape of /content/drive/My Drive/PSD.Cf252/F8Cf25200007.csv: (962,)\n",
            "Shape of /content/drive/My Drive/PSD.Cf252/F8Cf25200008.csv: (1060,)\n",
            "Shape of /content/drive/My Drive/PSD.Cf252/F8Cf25200009.csv: (931,)\n",
            "Shape of /content/drive/My Drive/PSD.Cf252/F8Cf25200010.csv: (985,)\n",
            "Shape of /content/drive/My Drive/PSD.Cf252/F8Cf25200011.csv: (972,)\n",
            "Shape of /content/drive/My Drive/PSD.Cf252/F8Cf25200012.csv: (1115,)\n",
            "Shape of /content/drive/My Drive/PSD.Cf252/F8Cf25200013.csv: (1218,)\n",
            "Shape of /content/drive/My Drive/PSD.Cf252/F8Cf25200014.csv: (1125,)\n",
            "Shape of /content/drive/My Drive/PSD.Cf252/F8Cf25200015.csv: (1122,)\n",
            "Shape of /content/drive/My Drive/PSD.Cf252/F8Cf25200016.csv: (1029,)\n",
            "Shape of /content/drive/My Drive/PSD.Cf252/F8Cf25200017.csv: (1162,)\n",
            "Shape of /content/drive/My Drive/PSD.Cf252/F8Cf25200018.csv: (688,)\n",
            "Shape of /content/drive/My Drive/PSD.Cf252/F8Cf25200019.csv: (721,)\n",
            "Shape of /content/drive/My Drive/PSD.Cf252/F8Cf25200020.csv: (846,)\n",
            "Shape of /content/drive/My Drive/PSD.Cf252/F8Cf25200021.csv: (1003,)\n",
            "Shape of /content/drive/My Drive/PSD.Cf252/F8Cf25200022.csv: (763,)\n",
            "Shape of /content/drive/My Drive/PSD.Cf252/F8Cf25200023.csv: (761,)\n",
            "Shape of /content/drive/My Drive/PSD.Cf252/F8Cf25200024.csv: (915,)\n",
            "Shape of /content/drive/My Drive/PSD.Cf252/F8Cf25200025.csv: (1166,)\n",
            "Shape of /content/drive/My Drive/PSD.Cf252/F8Cf25200026.csv: (979,)\n",
            "Shape of /content/drive/My Drive/PSD.Cf252/F8Cf25200027.csv: (696,)\n",
            "Shape of /content/drive/My Drive/PSD.Cf252/F8Cf25200028.csv: (1039,)\n",
            "Shape of /content/drive/My Drive/PSD.Cf252/F8Cf25200029.csv: (1423,)\n",
            "Shape of /content/drive/My Drive/PSD.Cf252/F8Cf25200030.csv: (1672,)\n",
            "Shape of /content/drive/My Drive/PSD.Cf252/F8Cf25200031.csv: (991,)\n",
            "Shape of /content/drive/My Drive/PSD.Cf252/F8Cf25200032.csv: (958,)\n",
            "Shape of /content/drive/My Drive/PSD.Cf252/F8Cf25200033.csv: (1539,)\n",
            "Shape of /content/drive/My Drive/PSD.Cf252/F8Cf25200034.csv: (613,)\n",
            "Shape of /content/drive/My Drive/PSD.Cf252/F8Cf25200035.csv: (1346,)\n",
            "Shape of /content/drive/My Drive/PSD.Cf252/F8Cf25200036.csv: (1212,)\n",
            "Shape of /content/drive/My Drive/PSD.Cf252/F8Cf25200037.csv: (557,)\n",
            "Shape of /content/drive/My Drive/PSD.Cf252/F8Cf25200038.csv: (1309,)\n",
            "Shape of /content/drive/My Drive/PSD.Cf252/F8Cf25200039.csv: (1659,)\n",
            "Shape of /content/drive/My Drive/PSD.Cf252/F8Cf25200040.csv: (1651,)\n",
            "Shape of /content/drive/My Drive/PSD.Cf252/F8Cf25200041.csv: (1151,)\n",
            "Shape of /content/drive/My Drive/PSD.Cf252/F8Cf25200042.csv: (1351,)\n",
            "Shape of /content/drive/My Drive/PSD.Cf252/F8Cf25200043.csv: (1240,)\n",
            "Shape of /content/drive/My Drive/PSD.Cf252/F8Cf25200044.csv: (1195,)\n",
            "Shape of /content/drive/My Drive/PSD.Cf252/F8Cf25200045.csv: (1284,)\n",
            "Shape of /content/drive/My Drive/PSD.Cf252/F8Cf25200046.csv: (1139,)\n",
            "Shape of /content/drive/My Drive/PSD.Cf252/F8Cf25200047.csv: (1451,)\n",
            "Shape of /content/drive/My Drive/PSD.Cf252/F8Cf25200048.csv: (1300,)\n",
            "Shape of /content/drive/My Drive/PSD.Cf252/F8Cf25200049.csv: (1461,)\n",
            "Shape of /content/drive/My Drive/PSD.Cf252/F8Cf25200050.csv: (1188,)\n",
            "Shape of /content/drive/My Drive/PSD.Cf252/F8Cf25200051.csv: (1258,)\n",
            "Shape of /content/drive/My Drive/PSD.Cf252/F8Cf25200052.csv: (1021,)\n",
            "Shape of /content/drive/My Drive/PSD.Cf252/F8Cf25200053.csv: (1411,)\n",
            "Shape of /content/drive/My Drive/PSD.Cf252/F8Cf25200054.csv: (1177,)\n",
            "Shape of /content/drive/My Drive/PSD.Cf252/F8Cf25200055.csv: (760,)\n",
            "Shape of Cf_rising: (62652,)\n",
            "[1.20706e-08 1.09882e-08 1.22724e-08 ... 1.15219e-08 1.25288e-08\n",
            " 1.17716e-08]\n"
          ]
        }
      ]
    },
    {
      "cell_type": "code",
      "source": [
        "import numpy as np\n",
        "\n",
        "# Define column names\n",
        "add_clos = ['amp', 'area', 'FWHM', 'failing', 'rising'] \n",
        "# Stack arrays horizontally with column names\n",
        "add_arrays = [Cf_amp, Cf_area, Cf_FWHM, Cf_falling, Cf_rising]\n",
        "data_array = np.column_stack((add_arrays)).astype(float)\n",
        "\n",
        "from google.colab import drive\n",
        "drive.mount('/content/drive')\n",
        "\n",
        "import pandas as pd\n",
        "\n",
        "# Convert data_array to a pandas DataFrame\n",
        "df = pd.DataFrame(data_array, columns = add_clos)\n",
        "\n",
        "# Save the DataFrame as a CSV file in your Google Drive\n",
        "file_path = '/content/drive/My Drive/PSD.Cf252/Cf252_62k.csv'\n",
        "df.to_csv(file_path, index=False)"
      ],
      "metadata": {
        "colab": {
          "base_uri": "https://localhost:8080/"
        },
        "id": "Iclgzmh6tCEo",
        "outputId": "e6cce4c5-02b4-4769-9c6f-4cc09e6224a6"
      },
      "execution_count": null,
      "outputs": [
        {
          "output_type": "stream",
          "name": "stdout",
          "text": [
            "Drive already mounted at /content/drive; to attempt to forcibly remount, call drive.mount(\"/content/drive\", force_remount=True).\n"
          ]
        }
      ]
    },
    {
      "cell_type": "code",
      "source": [],
      "metadata": {
        "id": "qzjRvdtqtcFI"
      },
      "execution_count": null,
      "outputs": []
    },
    {
      "cell_type": "code",
      "source": [],
      "metadata": {
        "id": "YIKJqkfDC3qX"
      },
      "execution_count": null,
      "outputs": []
    },
    {
      "cell_type": "code",
      "source": [
        "Cs_amp = np.empty(0)\n",
        "\n",
        "for i in range(23):\n",
        "    filename = f'/content/drive/My Drive/PSD.Cs137/F1Cs137{i:05d}.csv'\n",
        "    data = np.genfromtxt(filename, delimiter=',', usecols=(1))\n",
        "    data = data[4:]\n",
        "    print(f\"Shape of {filename}: {data.shape}\")\n",
        "    Cs_amp = np.concatenate([Cs_amp, data])\n",
        "\n",
        "print(f\"Shape of Cs_amp: {Cs_amp.shape}\")\n",
        "print(Cs_amp)\n"
      ],
      "metadata": {
        "id": "hIzOy3-yC324",
        "colab": {
          "base_uri": "https://localhost:8080/"
        },
        "outputId": "1967912a-12cb-488b-b520-1de8a686fb54"
      },
      "execution_count": null,
      "outputs": [
        {
          "output_type": "stream",
          "name": "stdout",
          "text": [
            "Shape of /content/drive/My Drive/PSD.Cs137/F1Cs13700000.csv: (615,)\n",
            "Shape of /content/drive/My Drive/PSD.Cs137/F1Cs13700001.csv: (1959,)\n",
            "Shape of /content/drive/My Drive/PSD.Cs137/F1Cs13700002.csv: (1653,)\n",
            "Shape of /content/drive/My Drive/PSD.Cs137/F1Cs13700003.csv: (5670,)\n",
            "Shape of /content/drive/My Drive/PSD.Cs137/F1Cs13700004.csv: (1879,)\n",
            "Shape of /content/drive/My Drive/PSD.Cs137/F1Cs13700005.csv: (2310,)\n",
            "Shape of /content/drive/My Drive/PSD.Cs137/F1Cs13700006.csv: (1468,)\n",
            "Shape of /content/drive/My Drive/PSD.Cs137/F1Cs13700007.csv: (3726,)\n",
            "Shape of /content/drive/My Drive/PSD.Cs137/F1Cs13700008.csv: (3725,)\n",
            "Shape of /content/drive/My Drive/PSD.Cs137/F1Cs13700009.csv: (7158,)\n",
            "Shape of /content/drive/My Drive/PSD.Cs137/F1Cs13700010.csv: (4906,)\n",
            "Shape of /content/drive/My Drive/PSD.Cs137/F1Cs13700011.csv: (5231,)\n",
            "Shape of /content/drive/My Drive/PSD.Cs137/F1Cs13700012.csv: (2683,)\n",
            "Shape of /content/drive/My Drive/PSD.Cs137/F1Cs13700013.csv: (3741,)\n",
            "Shape of /content/drive/My Drive/PSD.Cs137/F1Cs13700014.csv: (1376,)\n",
            "Shape of /content/drive/My Drive/PSD.Cs137/F1Cs13700015.csv: (3093,)\n",
            "Shape of /content/drive/My Drive/PSD.Cs137/F1Cs13700016.csv: (2563,)\n",
            "Shape of /content/drive/My Drive/PSD.Cs137/F1Cs13700017.csv: (4657,)\n",
            "Shape of /content/drive/My Drive/PSD.Cs137/F1Cs13700018.csv: (2421,)\n",
            "Shape of /content/drive/My Drive/PSD.Cs137/F1Cs13700019.csv: (1383,)\n",
            "Shape of /content/drive/My Drive/PSD.Cs137/F1Cs13700020.csv: (2201,)\n",
            "Shape of /content/drive/My Drive/PSD.Cs137/F1Cs13700021.csv: (2983,)\n",
            "Shape of /content/drive/My Drive/PSD.Cs137/F1Cs13700022.csv: (2067,)\n",
            "Shape of Cs_amp: (69468,)\n",
            "[0.0284873 0.0292869 0.0337848 ... 0.0325816 0.0272821 0.0291836]\n"
          ]
        }
      ]
    },
    {
      "cell_type": "code",
      "source": [
        "Cs_area = np.empty(0)\n",
        "\n",
        "for i in range(23):\n",
        "    filename = f'/content/drive/My Drive/PSD.Cs137/F1Cs137{i:05d}.csv'\n",
        "    data = np.genfromtxt(filename, delimiter=',', usecols=(1))\n",
        "    data = data[4:]\n",
        "    print(f\"Shape of {filename}: {data.shape}\")\n",
        "    Cs_area = np.concatenate([Cs_area, data])\n",
        "\n",
        "print(f\"Shape of Cs_area: {Cs_area.shape}\")\n",
        "print(Cs_area)\n"
      ],
      "metadata": {
        "colab": {
          "base_uri": "https://localhost:8080/"
        },
        "outputId": "25baa802-79f3-4c83-df15-9b999724d4e6",
        "id": "OqdYqO_pC324"
      },
      "execution_count": null,
      "outputs": [
        {
          "output_type": "stream",
          "name": "stdout",
          "text": [
            "Shape of /content/drive/My Drive/PSD.Cs137/F1Cs13700000.csv: (615,)\n",
            "Shape of /content/drive/My Drive/PSD.Cs137/F1Cs13700001.csv: (1959,)\n",
            "Shape of /content/drive/My Drive/PSD.Cs137/F1Cs13700002.csv: (1653,)\n",
            "Shape of /content/drive/My Drive/PSD.Cs137/F1Cs13700003.csv: (5670,)\n",
            "Shape of /content/drive/My Drive/PSD.Cs137/F1Cs13700004.csv: (1879,)\n",
            "Shape of /content/drive/My Drive/PSD.Cs137/F1Cs13700005.csv: (2310,)\n",
            "Shape of /content/drive/My Drive/PSD.Cs137/F1Cs13700006.csv: (1468,)\n",
            "Shape of /content/drive/My Drive/PSD.Cs137/F1Cs13700007.csv: (3726,)\n",
            "Shape of /content/drive/My Drive/PSD.Cs137/F1Cs13700008.csv: (3725,)\n",
            "Shape of /content/drive/My Drive/PSD.Cs137/F1Cs13700009.csv: (7158,)\n",
            "Shape of /content/drive/My Drive/PSD.Cs137/F1Cs13700010.csv: (4906,)\n",
            "Shape of /content/drive/My Drive/PSD.Cs137/F1Cs13700011.csv: (5231,)\n",
            "Shape of /content/drive/My Drive/PSD.Cs137/F1Cs13700012.csv: (2683,)\n",
            "Shape of /content/drive/My Drive/PSD.Cs137/F1Cs13700013.csv: (3741,)\n",
            "Shape of /content/drive/My Drive/PSD.Cs137/F1Cs13700014.csv: (1376,)\n",
            "Shape of /content/drive/My Drive/PSD.Cs137/F1Cs13700015.csv: (3093,)\n",
            "Shape of /content/drive/My Drive/PSD.Cs137/F1Cs13700016.csv: (2563,)\n",
            "Shape of /content/drive/My Drive/PSD.Cs137/F1Cs13700017.csv: (4657,)\n",
            "Shape of /content/drive/My Drive/PSD.Cs137/F1Cs13700018.csv: (2421,)\n",
            "Shape of /content/drive/My Drive/PSD.Cs137/F1Cs13700019.csv: (1383,)\n",
            "Shape of /content/drive/My Drive/PSD.Cs137/F1Cs13700020.csv: (2201,)\n",
            "Shape of /content/drive/My Drive/PSD.Cs137/F1Cs13700021.csv: (2983,)\n",
            "Shape of /content/drive/My Drive/PSD.Cs137/F1Cs13700022.csv: (2067,)\n",
            "Shape of Cs_area: (69468,)\n",
            "[0.0284873 0.0292869 0.0337848 ... 0.0325816 0.0272821 0.0291836]\n"
          ]
        }
      ]
    },
    {
      "cell_type": "code",
      "source": [
        "Cs_FWHM = np.empty(0)\n",
        "\n",
        "for i in range(23):\n",
        "    filename = f'/content/drive/My Drive/PSD.Cs137/F1Cs137{i:05d}.csv'\n",
        "    data = np.genfromtxt(filename, delimiter=',', usecols=(1))\n",
        "    data = data[4:]\n",
        "    print(f\"Shape of {filename}: {data.shape}\")\n",
        "    Cs_FWHM = np.concatenate([Cs_FWHM, data])\n",
        "\n",
        "print(f\"Shape of Cs_FWHM: {Cs_FWHM.shape}\")\n",
        "print(Cs_FWHM)\n"
      ],
      "metadata": {
        "colab": {
          "base_uri": "https://localhost:8080/"
        },
        "outputId": "305d647c-238e-49f1-d199-b81319050bfa",
        "id": "s6pmyVjAC325"
      },
      "execution_count": null,
      "outputs": [
        {
          "output_type": "stream",
          "name": "stdout",
          "text": [
            "Shape of /content/drive/My Drive/PSD.Cs137/F1Cs13700000.csv: (615,)\n",
            "Shape of /content/drive/My Drive/PSD.Cs137/F1Cs13700001.csv: (1959,)\n",
            "Shape of /content/drive/My Drive/PSD.Cs137/F1Cs13700002.csv: (1653,)\n",
            "Shape of /content/drive/My Drive/PSD.Cs137/F1Cs13700003.csv: (5670,)\n",
            "Shape of /content/drive/My Drive/PSD.Cs137/F1Cs13700004.csv: (1879,)\n",
            "Shape of /content/drive/My Drive/PSD.Cs137/F1Cs13700005.csv: (2310,)\n",
            "Shape of /content/drive/My Drive/PSD.Cs137/F1Cs13700006.csv: (1468,)\n",
            "Shape of /content/drive/My Drive/PSD.Cs137/F1Cs13700007.csv: (3726,)\n",
            "Shape of /content/drive/My Drive/PSD.Cs137/F1Cs13700008.csv: (3725,)\n",
            "Shape of /content/drive/My Drive/PSD.Cs137/F1Cs13700009.csv: (7158,)\n",
            "Shape of /content/drive/My Drive/PSD.Cs137/F1Cs13700010.csv: (4906,)\n",
            "Shape of /content/drive/My Drive/PSD.Cs137/F1Cs13700011.csv: (5231,)\n",
            "Shape of /content/drive/My Drive/PSD.Cs137/F1Cs13700012.csv: (2683,)\n",
            "Shape of /content/drive/My Drive/PSD.Cs137/F1Cs13700013.csv: (3741,)\n",
            "Shape of /content/drive/My Drive/PSD.Cs137/F1Cs13700014.csv: (1376,)\n",
            "Shape of /content/drive/My Drive/PSD.Cs137/F1Cs13700015.csv: (3093,)\n",
            "Shape of /content/drive/My Drive/PSD.Cs137/F1Cs13700016.csv: (2563,)\n",
            "Shape of /content/drive/My Drive/PSD.Cs137/F1Cs13700017.csv: (4657,)\n",
            "Shape of /content/drive/My Drive/PSD.Cs137/F1Cs13700018.csv: (2421,)\n",
            "Shape of /content/drive/My Drive/PSD.Cs137/F1Cs13700019.csv: (1383,)\n",
            "Shape of /content/drive/My Drive/PSD.Cs137/F1Cs13700020.csv: (2201,)\n",
            "Shape of /content/drive/My Drive/PSD.Cs137/F1Cs13700021.csv: (2983,)\n",
            "Shape of /content/drive/My Drive/PSD.Cs137/F1Cs13700022.csv: (2067,)\n",
            "Shape of Cs_FWHM: (69468,)\n",
            "[0.0284873 0.0292869 0.0337848 ... 0.0325816 0.0272821 0.0291836]\n"
          ]
        }
      ]
    },
    {
      "cell_type": "code",
      "source": [
        "Cs_falling = np.empty(0)\n",
        "\n",
        "for i in range(23):\n",
        "    filename = f'/content/drive/My Drive/PSD.Cs137/F1Cs137{i:05d}.csv'\n",
        "    data = np.genfromtxt(filename, delimiter=',', usecols=(1))\n",
        "    data = data[4:]\n",
        "    print(f\"Shape of {filename}: {data.shape}\")\n",
        "    Cs_falling = np.concatenate([Cs_falling, data])\n",
        "\n",
        "print(f\"Shape of Cs_falling: {Cs_falling.shape}\")\n",
        "print(Cs_falling)\n"
      ],
      "metadata": {
        "colab": {
          "base_uri": "https://localhost:8080/"
        },
        "outputId": "01c82090-7cde-4eb8-eac0-8b8051808be1",
        "id": "-Fy16F-nC33B"
      },
      "execution_count": null,
      "outputs": [
        {
          "output_type": "stream",
          "name": "stdout",
          "text": [
            "Shape of /content/drive/My Drive/PSD.Cs137/F1Cs13700000.csv: (615,)\n",
            "Shape of /content/drive/My Drive/PSD.Cs137/F1Cs13700001.csv: (1959,)\n",
            "Shape of /content/drive/My Drive/PSD.Cs137/F1Cs13700002.csv: (1653,)\n",
            "Shape of /content/drive/My Drive/PSD.Cs137/F1Cs13700003.csv: (5670,)\n",
            "Shape of /content/drive/My Drive/PSD.Cs137/F1Cs13700004.csv: (1879,)\n",
            "Shape of /content/drive/My Drive/PSD.Cs137/F1Cs13700005.csv: (2310,)\n",
            "Shape of /content/drive/My Drive/PSD.Cs137/F1Cs13700006.csv: (1468,)\n",
            "Shape of /content/drive/My Drive/PSD.Cs137/F1Cs13700007.csv: (3726,)\n",
            "Shape of /content/drive/My Drive/PSD.Cs137/F1Cs13700008.csv: (3725,)\n",
            "Shape of /content/drive/My Drive/PSD.Cs137/F1Cs13700009.csv: (7158,)\n",
            "Shape of /content/drive/My Drive/PSD.Cs137/F1Cs13700010.csv: (4906,)\n",
            "Shape of /content/drive/My Drive/PSD.Cs137/F1Cs13700011.csv: (5231,)\n",
            "Shape of /content/drive/My Drive/PSD.Cs137/F1Cs13700012.csv: (2683,)\n",
            "Shape of /content/drive/My Drive/PSD.Cs137/F1Cs13700013.csv: (3741,)\n",
            "Shape of /content/drive/My Drive/PSD.Cs137/F1Cs13700014.csv: (1376,)\n",
            "Shape of /content/drive/My Drive/PSD.Cs137/F1Cs13700015.csv: (3093,)\n",
            "Shape of /content/drive/My Drive/PSD.Cs137/F1Cs13700016.csv: (2563,)\n",
            "Shape of /content/drive/My Drive/PSD.Cs137/F1Cs13700017.csv: (4657,)\n",
            "Shape of /content/drive/My Drive/PSD.Cs137/F1Cs13700018.csv: (2421,)\n",
            "Shape of /content/drive/My Drive/PSD.Cs137/F1Cs13700019.csv: (1383,)\n",
            "Shape of /content/drive/My Drive/PSD.Cs137/F1Cs13700020.csv: (2201,)\n",
            "Shape of /content/drive/My Drive/PSD.Cs137/F1Cs13700021.csv: (2983,)\n",
            "Shape of /content/drive/My Drive/PSD.Cs137/F1Cs13700022.csv: (2067,)\n",
            "Shape of Cs_falling: (69468,)\n",
            "[0.0284873 0.0292869 0.0337848 ... 0.0325816 0.0272821 0.0291836]\n"
          ]
        }
      ]
    },
    {
      "cell_type": "code",
      "source": [
        "Cs_rising = np.empty(0)\n",
        "\n",
        "for i in range(23):\n",
        "    filename = f'/content/drive/My Drive/PSD.Cs137/F1Cs137{i:05d}.csv'\n",
        "    data = np.genfromtxt(filename, delimiter=',', usecols=(1))\n",
        "    data = data[4:]\n",
        "    print(f\"Shape of {filename}: {data.shape}\")\n",
        "    Cs_rising = np.concatenate([Cs_rising, data])\n",
        "\n",
        "print(f\"Shape of Cs_rising: {Cs_rising.shape}\")\n",
        "print(Cs_rising)\n"
      ],
      "metadata": {
        "colab": {
          "base_uri": "https://localhost:8080/"
        },
        "outputId": "865ee918-b6c2-47ee-a275-c62e0c298f14",
        "id": "-wBrf13OC33C"
      },
      "execution_count": null,
      "outputs": [
        {
          "output_type": "stream",
          "name": "stdout",
          "text": [
            "Shape of /content/drive/My Drive/PSD.Cs137/F1Cs13700000.csv: (615,)\n",
            "Shape of /content/drive/My Drive/PSD.Cs137/F1Cs13700001.csv: (1959,)\n",
            "Shape of /content/drive/My Drive/PSD.Cs137/F1Cs13700002.csv: (1653,)\n",
            "Shape of /content/drive/My Drive/PSD.Cs137/F1Cs13700003.csv: (5670,)\n",
            "Shape of /content/drive/My Drive/PSD.Cs137/F1Cs13700004.csv: (1879,)\n",
            "Shape of /content/drive/My Drive/PSD.Cs137/F1Cs13700005.csv: (2310,)\n",
            "Shape of /content/drive/My Drive/PSD.Cs137/F1Cs13700006.csv: (1468,)\n",
            "Shape of /content/drive/My Drive/PSD.Cs137/F1Cs13700007.csv: (3726,)\n",
            "Shape of /content/drive/My Drive/PSD.Cs137/F1Cs13700008.csv: (3725,)\n",
            "Shape of /content/drive/My Drive/PSD.Cs137/F1Cs13700009.csv: (7158,)\n",
            "Shape of /content/drive/My Drive/PSD.Cs137/F1Cs13700010.csv: (4906,)\n",
            "Shape of /content/drive/My Drive/PSD.Cs137/F1Cs13700011.csv: (5231,)\n",
            "Shape of /content/drive/My Drive/PSD.Cs137/F1Cs13700012.csv: (2683,)\n",
            "Shape of /content/drive/My Drive/PSD.Cs137/F1Cs13700013.csv: (3741,)\n",
            "Shape of /content/drive/My Drive/PSD.Cs137/F1Cs13700014.csv: (1376,)\n",
            "Shape of /content/drive/My Drive/PSD.Cs137/F1Cs13700015.csv: (3093,)\n",
            "Shape of /content/drive/My Drive/PSD.Cs137/F1Cs13700016.csv: (2563,)\n",
            "Shape of /content/drive/My Drive/PSD.Cs137/F1Cs13700017.csv: (4657,)\n",
            "Shape of /content/drive/My Drive/PSD.Cs137/F1Cs13700018.csv: (2421,)\n",
            "Shape of /content/drive/My Drive/PSD.Cs137/F1Cs13700019.csv: (1383,)\n",
            "Shape of /content/drive/My Drive/PSD.Cs137/F1Cs13700020.csv: (2201,)\n",
            "Shape of /content/drive/My Drive/PSD.Cs137/F1Cs13700021.csv: (2983,)\n",
            "Shape of /content/drive/My Drive/PSD.Cs137/F1Cs13700022.csv: (2067,)\n",
            "Shape of Cs_rising: (69468,)\n",
            "[0.0284873 0.0292869 0.0337848 ... 0.0325816 0.0272821 0.0291836]\n"
          ]
        }
      ]
    },
    {
      "cell_type": "code",
      "source": [
        "import numpy as np\n",
        "\n",
        "# Define column names\n",
        "add_clos = ['amp', 'area', 'FWHM', 'failing', 'rising'] \n",
        "# Stack arrays horizontally with column names\n",
        "add_arrays = [Cs_amp, Cs_area, Cs_FWHM, Cs_falling, Cs_rising]\n",
        "data_array = np.column_stack((add_arrays)).astype(float)\n",
        "\n",
        "from google.colab import drive\n",
        "drive.mount('/content/drive')\n",
        "\n",
        "import pandas as pd\n",
        "\n",
        "# Convert data_array to a pandas DataFrame\n",
        "df = pd.DataFrame(data_array, columns = add_clos)\n",
        "\n",
        "# Save the DataFrame as a CSV file in your Google Drive\n",
        "file_path = '/content/drive/My Drive/PSD.Cs137/Cs137_69k.csv'\n",
        "df.to_csv(file_path, index=False)"
      ],
      "metadata": {
        "colab": {
          "base_uri": "https://localhost:8080/"
        },
        "outputId": "2ab3b3c4-fa07-4b50-adee-085f6dca8383",
        "id": "QGgD6ZE3C33C"
      },
      "execution_count": null,
      "outputs": [
        {
          "output_type": "stream",
          "name": "stdout",
          "text": [
            "Drive already mounted at /content/drive; to attempt to forcibly remount, call drive.mount(\"/content/drive\", force_remount=True).\n"
          ]
        }
      ]
    },
    {
      "cell_type": "code",
      "source": [],
      "metadata": {
        "id": "qz7SAxt3FFYz"
      },
      "execution_count": null,
      "outputs": []
    }
  ]
}