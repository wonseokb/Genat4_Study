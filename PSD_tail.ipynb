{
  "cells": [
    {
      "cell_type": "markdown",
      "metadata": {
        "id": "view-in-github",
        "colab_type": "text"
      },
      "source": [
        "<a href=\"https://colab.research.google.com/github/wonseokb/Genat4_Study/blob/main/PSD_tail.ipynb\" target=\"_parent\"><img src=\"https://colab.research.google.com/assets/colab-badge.svg\" alt=\"Open In Colab\"/></a>"
      ]
    },
    {
      "cell_type": "markdown",
      "metadata": {
        "id": "VeNfad9qMHNc"
      },
      "source": [
        "# Decision Trees and Random Forests"
      ]
    },
    {
      "cell_type": "markdown",
      "metadata": {
        "id": "DNf02VgkMHNf"
      },
      "source": [
        "### Can we predict the quartz content of sand, at any point on Earth?"
      ]
    },
    {
      "cell_type": "markdown",
      "metadata": {
        "id": "xbxOs-3RMHNg"
      },
      "source": [
        "## Decision Trees"
      ]
    },
    {
      "cell_type": "markdown",
      "metadata": {
        "id": "pncpSOk8MHNg"
      },
      "source": [
        "Decision trees are intuitive ways to classify or label objects: you simply ask a series of questions designed to zero in on the classification. Decision Trees are powerful algorithms, capable of fitting (and overfitting!) complex datasets. Decision Trees are also the fundamental components of Random Forests, which are among the most powerful algorithms available today.\n",
        "\n",
        "The first part of this notebook is based on the book [\"Hands-on Machine Learning with Scikit-Learn, Keras, and Tensorflow\"](https://github.com/ageron/handson-ml3), by Aurélien Géron."
      ]
    },
    {
      "cell_type": "markdown",
      "source": [
        "###1. Data"
      ],
      "metadata": {
        "id": "25ZrvXkccxHk"
      }
    },
    {
      "cell_type": "code",
      "source": [
        "import numpy as np\n",
        "\n",
        "# Load the csv data into a numpy array\n",
        "\n",
        "# Sr90 = np.loadtxt(\"data_array_Bi207_5000.csv\", delimiter=\",\", skiprows=1)\n",
        "# Cs137 = np.loadtxt(\"data_array_Cs137_5000.csv\", delimiter=\",\", skiprows=1)\n",
        "# Bi207 = np.loadtxt(\"data_array_Sr90_5000.csv\", delimiter=\",\", skiprows=1)\n",
        "# Sr90 = np.loadtxt(\"data_array_Bi207_20000.csv\", delimiter=\",\", skiprows=1)\n",
        "# Cs137 = np.loadtxt(\"data_array_Cs137_20000.csv\", delimiter=\",\", skiprows=1)\n",
        "# Bi207 = np.loadtxt(\"data_array_Sr90_20000.csv\", delimiter=\",\", skiprows=1)\n",
        "Sr90 = np.loadtxt(\"data_array_Sr90_22cols_20000.csv\", delimiter=\",\", skiprows=1)\n",
        "Cs137 = np.loadtxt(\"data_array_Cs137_22cols_20000.csv\", delimiter=\",\", skiprows=1)\n",
        "Bi207 = np.loadtxt(\"data_array_Bi207_22cols_20000.csv\", delimiter=\",\", skiprows=1)\n",
        "\n",
        "\n",
        "# Print the resulting numpy array\n",
        "print(Sr90)\n",
        "print(Sr90.shape)\n",
        "print(Cs137)\n",
        "print(Cs137.shape)\n",
        "print(Bi207)\n",
        "print(Bi207.shape)"
      ],
      "metadata": {
        "colab": {
          "base_uri": "https://localhost:8080/"
        },
        "id": "hEDkGHufx3bv",
        "outputId": "dafc524e-9079-42f5-a74c-4d260fc39f10"
      },
      "execution_count": 29,
      "outputs": [
        {
          "output_type": "stream",
          "name": "stdout",
          "text": [
            "[[-31.4617     -14.43271611   0.28049    ...   0.08406786   0.09878933\n",
            "    0.08661996]\n",
            " [-50.1334     -13.19252127   0.2689     ...   0.08190001   0.08536033\n",
            "    0.07190683]\n",
            " [-29.2227     -13.07923551   0.24755    ...   0.07332859   0.0839915\n",
            "    0.07923753]\n",
            " ...\n",
            " [-43.3764     -13.18138667   0.26218    ...   0.08409814   0.08257576\n",
            "    0.0795812 ]\n",
            " [-17.9878     -14.14097165   0.21777    ...   0.0911215    0.07569314\n",
            "    0.06919784]\n",
            " [-36.9793     -13.05263134   0.27458    ...   0.07494133   0.07633316\n",
            "    0.07972739]]\n",
            "(20000, 22)\n",
            "[[-23.1455     -12.80643391   0.24382    ...   0.07268465   0.04977637\n",
            "    0.07648363]\n",
            " [-18.3876     -14.4902425    0.24848    ...   0.08290288   0.06946455\n",
            "    0.05800734]\n",
            " [-22.6657     -13.13101989   0.20828    ...   0.05068272   0.06065574\n",
            "    0.07758077]\n",
            " ...\n",
            " [-20.1468     -14.4793889    0.20635    ...   0.06491431   0.0670593\n",
            "    0.05338008]\n",
            " [-31.2219     -12.79177467   0.21857    ...   0.07253467   0.07163476\n",
            "    0.07365767]\n",
            " [-24.265      -14.0612855    0.22952    ...   0.07695345   0.07030364\n",
            "    0.05436381]]\n",
            "(20000, 22)\n",
            "[[-23.1455     -12.80643391   0.20814    ...   0.08061737   0.07734474\n",
            "    0.05554043]\n",
            " [-18.3876     -14.4902425    0.25342    ...   0.07750946   0.08122384\n",
            "    0.08139331]\n",
            " [-22.6657     -13.13101989   0.27987    ...   0.05744459   0.07855414\n",
            "    0.09184024]\n",
            " ...\n",
            " [-20.1468     -14.4793889    0.21642    ...   0.07610938   0.0860394\n",
            "    0.06142197]\n",
            " [-31.2219     -12.79177467   0.20596    ...   0.0821306    0.08960179\n",
            "    0.06026852]\n",
            " [-24.265      -14.0612855    0.23376    ...   0.07449319   0.07463295\n",
            "    0.07740443]]\n",
            "(20000, 22)\n"
          ]
        }
      ]
    },
    {
      "cell_type": "markdown",
      "source": [
        "###2. Plots"
      ],
      "metadata": {
        "id": "cnYwCZ9Lc5g4"
      }
    },
    {
      "cell_type": "code",
      "source": [
        "import matplotlib.pyplot as plt\n",
        "fig, ax = plt.subplots(figsize=(16, 8))\n",
        "\n",
        "\n",
        "# Find the minimum and maximum values of the array\n",
        "min = np.amin(Sr90[:, 0])\n",
        "max = np.amax(Sr90[:, 0])\n",
        "\n",
        "# Print the minimum and maximum values of the array\n",
        "print('Minimum value of the array:', min)\n",
        "print('Maximum value of the array:', max)\n",
        "\n",
        "\n",
        "bins = np.linspace(min, max, 201)\n",
        "ax.hist(Sr90[:, 0], bins, alpha=0.5, label='Sr90')\n",
        "ax.hist(Cs137[:, 0], bins, alpha=0.5, label='Cs137')\n",
        "ax.hist(Bi207[:, 0], bins, alpha=0.5, label='Bi207')\n",
        "#ax.hist(Am241_X_first_col, bins, alpha=0.5, label='Am241')\n",
        "ax.set_xlabel('Value', fontsize=20)  # X축 제목의 크기를 15로 설정\n",
        "ax.set_ylabel('Frequency', fontsize=20)  # Y축 제목의 크기를 15로 설정\n",
        "ax.tick_params(axis='both', labelsize=20)  # X축과 Y축의 글씨 크기를 15로 설정\n",
        "ax.set_yscale('log')  # y축을 로그 스케일로 변경\n",
        "ax.legend(fontsize=30)\n",
        "ax.set_title('Amplitude', fontsize=30)\n",
        "plt.show()"
      ],
      "metadata": {
        "colab": {
          "base_uri": "https://localhost:8080/",
          "height": 787
        },
        "id": "93lBFuEPLle8",
        "outputId": "2df9ab8d-51a9-4319-8243-89569c9552fc"
      },
      "execution_count": 30,
      "outputs": [
        {
          "output_type": "stream",
          "name": "stdout",
          "text": [
            "Minimum value of the array: -161.883\n",
            "Maximum value of the array: -14.3094\n"
          ]
        },
        {
          "output_type": "display_data",
          "data": {
            "text/plain": [
              "<Figure size 1600x800 with 1 Axes>"
            ],
            "image/png": "[encoded data removed]"
          },
          "metadata": {}
        }
      ]
    },
    {
      "cell_type": "code",
      "source": [
        "fig, ax = plt.subplots(figsize=(16, 8))\n",
        "\n",
        "\n",
        "# Find the minimum and maximum values of the array\n",
        "min = np.amin(Sr90[:, 1])\n",
        "max = np.amax(Sr90[:, 1])\n",
        "\n",
        "# Print the minimum and maximum values of the array\n",
        "print('Minimum value of the array:', min)\n",
        "print('Maximum value of the array:', max)\n",
        "\n",
        "\n",
        "bins = np.linspace(min, max, 201)\n",
        "#ax.hist(Sr90[:, 1], bins, alpha=0.5, label='Sr90')\n",
        "ax.hist(Cs137[:, 1], bins, alpha=0.5, label='Cs137')\n",
        "ax.hist(Bi207[:, 1], bins, alpha=0.5, label='Bi207')\n",
        "#ax.hist(Am241_X_first_col, bins, alpha=0.5, label='Am241')\n",
        "ax.set_xlabel('Value', fontsize=20)  # X축 제목의 크기를 15로 설정\n",
        "ax.set_ylabel('Frequency', fontsize=20)  # Y축 제목의 크기를 15로 설정\n",
        "ax.tick_params(axis='both', labelsize=20)  # X축과 Y축의 글씨 크기를 15로 설정\n",
        "ax.set_yscale('log')  # y축을 로그 스케일로 변경\n",
        "ax.legend(fontsize=30)\n",
        "ax.set_title('Area', fontsize=30)\n",
        "plt.show()"
      ],
      "metadata": {
        "colab": {
          "base_uri": "https://localhost:8080/",
          "height": 787
        },
        "id": "STgT7A700PQh",
        "outputId": "52c8eb9b-1a57-401d-8792-7710011641c6"
      },
      "execution_count": 49,
      "outputs": [
        {
          "output_type": "stream",
          "name": "stdout",
          "text": [
            "Minimum value of the array: -21.916475137406643\n",
            "Maximum value of the array: -11.496608484608362\n"
          ]
        },
        {
          "output_type": "display_data",
          "data": {
            "text/plain": [
              "<Figure size 1600x800 with 1 Axes>"
            ],
            "image/png": "[encoded data removed]"
          },
          "metadata": {}
        }
      ]
    },
    {
      "cell_type": "markdown",
      "source": [
        "###3. Removing Outlier Data (Background)"
      ],
      "metadata": {
        "id": "MeaC-kb2eJkJ"
      }
    },
    {
      "cell_type": "code",
      "source": [
        "Sr90_X = Sr90\n",
        "Cs137_X = Cs137\n",
        "Bi207_X = Bi207"
      ],
      "metadata": {
        "id": "f9ER2zW8iN6x"
      },
      "execution_count": 32,
      "outputs": []
    },
    {
      "cell_type": "code",
      "source": [
        "# print(Sr90_X[1,:])"
      ],
      "metadata": {
        "id": "c-BP4oLjpam8"
      },
      "execution_count": 33,
      "outputs": []
    },
    {
      "cell_type": "code",
      "source": [
        "# Sr90_X_mask = Sr90_X[:, 0] > 0.13\n",
        "# Sr90_X = Sr90_X[~Sr90_X_mask]\n",
        "# print(Sr90_X.shape)\n",
        "\n",
        "# Cs137_X_mask = Cs137_X[:, 0] > 0.10\n",
        "# Cs137_X = Cs137_X[~Cs137_X_mask]\n",
        "# print(Cs137_X.shape)\n",
        "\n",
        "# Bi207_X_mask = Bi207_X[:, 0] > 0.13\n",
        "# Bi207_X = Bi207_X[~Bi207_X_mask]\n",
        "# print(Bi207_X.shape)"
      ],
      "metadata": {
        "id": "t1-GyvdUXsFl"
      },
      "execution_count": 10,
      "outputs": []
    },
    {
      "cell_type": "code",
      "source": [
        "# Sr90_X_mask2 = Sr90_X[:, 14] < -20\n",
        "# Sr90_X = Sr90_X[~Sr90_X_mask2]\n",
        "# print(Sr90_X.shape)\n",
        "\n",
        "# Cs137_X_mask2 = Cs137_X[:, 14] < -30\n",
        "# Cs137_X = Cs137_X[~Cs137_X_mask2]\n",
        "# print(Cs137_X.shape)\n",
        "\n",
        "# Bi207_X_mask2 = Bi207_X[:, 14] < -20\n",
        "# Bi207_X = Bi207_X[~Bi207_X_mask2]\n",
        "# print(Bi207_X.shape)"
      ],
      "metadata": {
        "id": "fqYBSIkban7Q"
      },
      "execution_count": 11,
      "outputs": []
    },
    {
      "cell_type": "code",
      "source": [
        "# Sr90_X_mask = Sr90_X[:, 15] > 1.3\n",
        "# Sr90_X = Sr90_X[~Sr90_X_mask]\n",
        "# print(Sr90_X.shape)\n",
        "\n",
        "# Cs137_X_mask = Cs137_X[:, 15] > 1.3\n",
        "# Cs137_X = Cs137_X[~Cs137_X_mask]\n",
        "# print(Cs137_X.shape)\n",
        "\n",
        "# Bi207_X_mask = Bi207_X[:, 15] > 1.3\n",
        "# Bi207_X = Bi207_X[~Bi207_X_mask]\n",
        "# print(Bi207_X.shape)"
      ],
      "metadata": {
        "id": "91ChTth1d8mf"
      },
      "execution_count": 12,
      "outputs": []
    },
    {
      "cell_type": "code",
      "source": [
        "# Sr90_X_mask = Sr90_X[:, 17] > 15.5\n",
        "# Sr90_X = Sr90_X[~Sr90_X_mask]\n",
        "# print(Sr90_X.shape)\n",
        "\n",
        "# Cs137_X_mask = Cs137_X[:, 17] > 15.5\n",
        "# Cs137_X = Cs137_X[~Cs137_X_mask]\n",
        "# print(Cs137_X.shape)\n",
        "# print(Bi207_X.shape)"
      ],
      "metadata": {
        "id": "tUU_pRbten7B"
      },
      "execution_count": 13,
      "outputs": []
    },
    {
      "cell_type": "markdown",
      "source": [
        "###4. Plot Again"
      ],
      "metadata": {
        "id": "5oLnuPjseRtT"
      }
    },
    {
      "cell_type": "code",
      "source": [
        "# import matplotlib.pyplot as plt\n",
        "# fig, ax = plt.subplots(figsize=(16, 8))\n",
        "\n",
        "\n",
        "# # Find the minimum and maximum values of the array\n",
        "# min = np.amin(Sr90_X[:, 0])\n",
        "# max = np.amax(Sr90_X[:, 0])\n",
        "\n",
        "# # Print the minimum and maximum values of the array\n",
        "# print('Minimum value of the array:', min)\n",
        "# print('Maximum value of the array:', max)\n",
        "\n",
        "\n",
        "# bins = np.linspace(min, max, 501)\n",
        "# ax.hist(Sr90_X[:, 0], bins, alpha=0.5, label='Sr90')\n",
        "# ax.hist(Cs137_X[:, 0], bins, alpha=0.5, label='Cs137')\n",
        "# ax.hist(Bi207_X[:, 0], bins, alpha=0.5, label='Bi207')\n",
        "# #ax.hist(Am241_X_first_col, bins, alpha=0.5, label='Am241')\n",
        "# ax.set_xlabel('Value', fontsize=20)  # X축 제목의 크기를 15로 설정\n",
        "# ax.set_ylabel('Frequency', fontsize=20)  # Y축 제목의 크기를 15로 설정\n",
        "# ax.tick_params(axis='both', labelsize=20)  # X축과 Y축의 글씨 크기를 15로 설정\n",
        "# ax.set_yscale('log')  # y축을 로그 스케일로 변경\n",
        "# ax.legend(fontsize=30)\n",
        "# ax.set_title('Amplitude', fontsize=30)\n",
        "# plt.show()"
      ],
      "metadata": {
        "id": "KQ7XN8m7coav"
      },
      "execution_count": 14,
      "outputs": []
    },
    {
      "cell_type": "code",
      "source": [
        "# fig, ax = plt.subplots(figsize=(16, 8))\n",
        "\n",
        "\n",
        "# # Find the minimum and maximum values of the array\n",
        "# min = np.amin(Sr90_X[:, 14])\n",
        "# max = np.amax(Sr90_X[:, 14])\n",
        "\n",
        "# # Print the minimum and maximum values of the array\n",
        "# print('Minimum value of the array:', min)\n",
        "# print('Maximum value of the array:', max)\n",
        "\n",
        "\n",
        "# bins = np.linspace(min, max, 71)\n",
        "# ax.hist(Sr90_X[:, 14], bins, alpha=0.5, label='Sr90')\n",
        "# ax.hist(Cs137_X[:, 14], bins, alpha=0.5, label='Cs137')\n",
        "# ax.hist(Bi207_X[:, 14], bins, alpha=0.5, label='Bi207')\n",
        "# #ax.hist(Am241_X_first_col, bins, alpha=0.5, label='Am241')\n",
        "# ax.set_xlabel('Value', fontsize=20)  # X축 제목의 크기를 15로 설정\n",
        "# ax.set_ylabel('Frequency', fontsize=20)  # Y축 제목의 크기를 15로 설정\n",
        "# ax.tick_params(axis='both', labelsize=20)  # X축과 Y축의 글씨 크기를 15로 설정\n",
        "# ax.set_yscale('log')  # y축을 로그 스케일로 변경\n",
        "# ax.legend(fontsize=30)\n",
        "# ax.set_title('Area', fontsize=30)\n",
        "# plt.show()"
      ],
      "metadata": {
        "id": "4E_USIIQfVrt"
      },
      "execution_count": 15,
      "outputs": []
    },
    {
      "cell_type": "markdown",
      "source": [
        "###5. Collect a data to use"
      ],
      "metadata": {
        "id": "8I7VE8ELfBQm"
      }
    },
    {
      "cell_type": "code",
      "source": [
        "# Sr90_X = np.column_stack((Sr90_X[:, 0], Sr90_X[:, 5:10], Sr90_X[:, 12:]))\n",
        "# Cs137_X = np.column_stack((Cs137_X[:, 0], Cs137_X[:, 5:10], Cs137_X[:, 12:]))\n",
        "# Bi207_X = np.column_stack((Bi207_X[:, 0], Bi207_X[:, 5:10], Bi207_X[:, 12:]))\n",
        "\n",
        "\n",
        "# print(Sr90_X.shape)\n",
        "# print(Cs137_X.shape)\n",
        "# print(Bi207_X.shape)"
      ],
      "metadata": {
        "id": "uawLRDONh-GG"
      },
      "execution_count": 16,
      "outputs": []
    },
    {
      "cell_type": "code",
      "source": [
        "# Sr90_X = Sr90\n",
        "# Cs137_X = Cs137\n",
        "# Bi207_X = Bi207"
      ],
      "metadata": {
        "id": "mzhvl6D6sscu"
      },
      "execution_count": 17,
      "outputs": []
    },
    {
      "cell_type": "code",
      "source": [
        "print(Sr90_X.shape)\n",
        "print(Cs137_X.shape)\n",
        "print(Bi207_X.shape)"
      ],
      "metadata": {
        "colab": {
          "base_uri": "https://localhost:8080/"
        },
        "id": "A1aP37WIykZL",
        "outputId": "ef282c51-a4dd-4fba-f022-b783faf820b4"
      },
      "execution_count": 34,
      "outputs": [
        {
          "output_type": "stream",
          "name": "stdout",
          "text": [
            "(20000, 22)\n",
            "(20000, 22)\n",
            "(20000, 22)\n"
          ]
        }
      ]
    },
    {
      "cell_type": "code",
      "source": [
        "Sr90_Y = np.full(20000, 90, dtype=np.int32)\n",
        "Cs137_Y = np.full(20000, 137, dtype=np.int32)\n",
        "Bi207_Y = np.full(20000, 207, dtype=np.int32)"
      ],
      "metadata": {
        "id": "Q4_QPpKfs01u"
      },
      "execution_count": 35,
      "outputs": []
    },
    {
      "cell_type": "code",
      "source": [
        "print(Sr90_Y.shape)\n",
        "print(Cs137_Y.shape)\n",
        "print(Bi207_Y.shape)"
      ],
      "metadata": {
        "colab": {
          "base_uri": "https://localhost:8080/"
        },
        "id": "AXjlyYfHzZCW",
        "outputId": "127cfbbd-975b-49ab-82f1-91d2bc10a0bb"
      },
      "execution_count": 36,
      "outputs": [
        {
          "output_type": "stream",
          "name": "stdout",
          "text": [
            "(20000,)\n",
            "(20000,)\n",
            "(20000,)\n"
          ]
        }
      ]
    },
    {
      "cell_type": "code",
      "source": [
        "X = np.concatenate([Sr90_X, Cs137_X, Bi207_X], axis=0)\n",
        "X.shape"
      ],
      "metadata": {
        "colab": {
          "base_uri": "https://localhost:8080/"
        },
        "id": "fBzp-59fyxTF",
        "outputId": "229db00e-a641-41f7-895e-f81453e04b54"
      },
      "execution_count": 37,
      "outputs": [
        {
          "output_type": "execute_result",
          "data": {
            "text/plain": [
              "(60000, 22)"
            ]
          },
          "metadata": {},
          "execution_count": 37
        }
      ]
    },
    {
      "cell_type": "code",
      "source": [
        "y = np.concatenate([Sr90_Y, Cs137_Y, Bi207_Y], axis=0)\n",
        "y.shape"
      ],
      "metadata": {
        "colab": {
          "base_uri": "https://localhost:8080/"
        },
        "id": "7zBCRjHCy4yn",
        "outputId": "5ad8e4fa-4ead-4ec3-ad2e-201d9f7bfdcb"
      },
      "execution_count": 38,
      "outputs": [
        {
          "output_type": "execute_result",
          "data": {
            "text/plain": [
              "(60000,)"
            ]
          },
          "metadata": {},
          "execution_count": 38
        }
      ]
    },
    {
      "cell_type": "markdown",
      "source": [
        "###6. Decision Tree (Not use anymore)"
      ],
      "metadata": {
        "id": "l1YspL0ZfHqU"
      }
    },
    {
      "cell_type": "code",
      "source": [
        "from sklearn.datasets import load_iris\n",
        "from sklearn.tree import DecisionTreeClassifier\n",
        "\n",
        "tree_clf = DecisionTreeClassifier(max_depth=1000, random_state=42)\n",
        "tree_clf.fit(X, y)"
      ],
      "metadata": {
        "colab": {
          "base_uri": "https://localhost:8080/",
          "height": 74
        },
        "id": "j4YVF8pS0IfE",
        "outputId": "95e04bc5-474d-4c2a-bfcb-dc06c1115eed"
      },
      "execution_count": 39,
      "outputs": [
        {
          "output_type": "execute_result",
          "data": {
            "text/plain": [
              "DecisionTreeClassifier(max_depth=1000, random_state=42)"
            ],
            "text/html": [
              "<style>#sk-container-id-2 {color: black;background-color: white;}#sk-container-id-2 pre{padding: 0;}#sk-container-id-2 div.sk-toggleable {background-color: white;}#sk-container-id-2 label.sk-toggleable__label {cursor: pointer;display: block;width: 100%;margin-bottom: 0;padding: 0.3em;box-sizing: border-box;text-align: center;}#sk-container-id-2 label.sk-toggleable__label-arrow:before {content: \"▸\";float: left;margin-right: 0.25em;color: #696969;}#sk-container-id-2 label.sk-toggleable__label-arrow:hover:before {color: black;}#sk-container-id-2 div.sk-estimator:hover label.sk-toggleable__label-arrow:before {color: black;}#sk-container-id-2 div.sk-toggleable__content {max-height: 0;max-width: 0;overflow: hidden;text-align: left;background-color: #f0f8ff;}#sk-container-id-2 div.sk-toggleable__content pre {margin: 0.2em;color: black;border-radius: 0.25em;background-color: #f0f8ff;}#sk-container-id-2 input.sk-toggleable__control:checked~div.sk-toggleable__content {max-height: 200px;max-width: 100%;overflow: auto;}#sk-container-id-2 input.sk-toggleable__control:checked~label.sk-toggleable__label-arrow:before {content: \"▾\";}#sk-container-id-2 div.sk-estimator input.sk-toggleable__control:checked~label.sk-toggleable__label {background-color: #d4ebff;}#sk-container-id-2 div.sk-label input.sk-toggleable__control:checked~label.sk-toggleable__label {background-color: #d4ebff;}#sk-container-id-2 input.sk-hidden--visually {border: 0;clip: rect(1px 1px 1px 1px);clip: rect(1px, 1px, 1px, 1px);height: 1px;margin: -1px;overflow: hidden;padding: 0;position: absolute;width: 1px;}#sk-container-id-2 div.sk-estimator {font-family: monospace;background-color: #f0f8ff;border: 1px dotted black;border-radius: 0.25em;box-sizing: border-box;margin-bottom: 0.5em;}#sk-container-id-2 div.sk-estimator:hover {background-color: #d4ebff;}#sk-container-id-2 div.sk-parallel-item::after {content: \"\";width: 100%;border-bottom: 1px solid gray;flex-grow: 1;}#sk-container-id-2 div.sk-label:hover label.sk-toggleable__label {background-color: #d4ebff;}#sk-container-id-2 div.sk-serial::before {content: \"\";position: absolute;border-left: 1px solid gray;box-sizing: border-box;top: 0;bottom: 0;left: 50%;z-index: 0;}#sk-container-id-2 div.sk-serial {display: flex;flex-direction: column;align-items: center;background-color: white;padding-right: 0.2em;padding-left: 0.2em;position: relative;}#sk-container-id-2 div.sk-item {position: relative;z-index: 1;}#sk-container-id-2 div.sk-parallel {display: flex;align-items: stretch;justify-content: center;background-color: white;position: relative;}#sk-container-id-2 div.sk-item::before, #sk-container-id-2 div.sk-parallel-item::before {content: \"\";position: absolute;border-left: 1px solid gray;box-sizing: border-box;top: 0;bottom: 0;left: 50%;z-index: -1;}#sk-container-id-2 div.sk-parallel-item {display: flex;flex-direction: column;z-index: 1;position: relative;background-color: white;}#sk-container-id-2 div.sk-parallel-item:first-child::after {align-self: flex-end;width: 50%;}#sk-container-id-2 div.sk-parallel-item:last-child::after {align-self: flex-start;width: 50%;}#sk-container-id-2 div.sk-parallel-item:only-child::after {width: 0;}#sk-container-id-2 div.sk-dashed-wrapped {border: 1px dashed gray;margin: 0 0.4em 0.5em 0.4em;box-sizing: border-box;padding-bottom: 0.4em;background-color: white;}#sk-container-id-2 div.sk-label label {font-family: monospace;font-weight: bold;display: inline-block;line-height: 1.2em;}#sk-container-id-2 div.sk-label-container {text-align: center;}#sk-container-id-2 div.sk-container {/* jupyter's `normalize.less` sets `[hidden] { display: none; }` but bootstrap.min.css set `[hidden] { display: none !important; }` so we also need the `!important` here to be able to override the default hidden behavior on the sphinx rendered scikit-learn.org. See: https://github.com/scikit-learn/scikit-learn/issues/21755 */display: inline-block !important;position: relative;}#sk-container-id-2 div.sk-text-repr-fallback {display: none;}</style><div id=\"sk-container-id-2\" class=\"sk-top-container\"><div class=\"sk-text-repr-fallback\"><pre>DecisionTreeClassifier(max_depth=1000, random_state=42)</pre><b>In a Jupyter environment, please rerun this cell to show the HTML representation or trust the notebook. <br />On GitHub, the HTML representation is unable to render, please try loading this page with nbviewer.org.</b></div><div class=\"sk-container\" hidden><div class=\"sk-item\"><div class=\"sk-estimator sk-toggleable\"><input class=\"sk-toggleable__control sk-hidden--visually\" id=\"sk-estimator-id-2\" type=\"checkbox\" checked><label for=\"sk-estimator-id-2\" class=\"sk-toggleable__label sk-toggleable__label-arrow\">DecisionTreeClassifier</label><div class=\"sk-toggleable__content\"><pre>DecisionTreeClassifier(max_depth=1000, random_state=42)</pre></div></div></div></div></div>"
            ]
          },
          "metadata": {},
          "execution_count": 39
        }
      ]
    },
    {
      "cell_type": "markdown",
      "metadata": {
        "id": "1JZmEAIZMHNi"
      },
      "source": [
        "Decision trees require very little data preparation. They don't require feature scaling or centering at all."
      ]
    },
    {
      "cell_type": "code",
      "source": [
        "tree_clf.feature_importances_"
      ],
      "metadata": {
        "colab": {
          "base_uri": "https://localhost:8080/"
        },
        "id": "iaWdNwT0uDZC",
        "outputId": "0be2fc6f-8b1a-46a9-af24-dc6938a9b631"
      },
      "execution_count": 40,
      "outputs": [
        {
          "output_type": "execute_result",
          "data": {
            "text/plain": [
              "array([0.21921421, 0.05863541, 0.02215302, 0.08461291, 0.04100866,\n",
              "       0.02470373, 0.0204582 , 0.02000291, 0.01620911, 0.02126711,\n",
              "       0.02586541, 0.03237634, 0.02419855, 0.04175564, 0.04372455,\n",
              "       0.04535128, 0.05185305, 0.04553118, 0.03896705, 0.03709529,\n",
              "       0.03641717, 0.04859922])"
            ]
          },
          "metadata": {},
          "execution_count": 40
        }
      ]
    },
    {
      "cell_type": "markdown",
      "source": [
        "###7. Random Forest"
      ],
      "metadata": {
        "id": "-vond2aQfNnt"
      }
    },
    {
      "cell_type": "markdown",
      "metadata": {
        "id": "Px27wCSeMHNs"
      },
      "source": [
        "# Ensemble Learning | Random Forests\n",
        "\n",
        "* ask many people a complex question and aggregate their answers - the **wisdom of the crowds**\n",
        "* aggregate the predictions of a group of predictors (classifiers or regressors) --> better predictions than the best individual predictor\n",
        "* a group of predictors is called an **ensemble**; the technique is called **ensemble learning**\n",
        "* e.g., you can train a group of Decision Tree classifiers, each on a different random subset of the training set. To make predictions, you obtain the predictions of all the indivisual trees, then predict the class that gets the most votes --> **Random Forest**\n",
        "* the winning solutions in ML competitions often involve ensemble methods"
      ]
    },
    {
      "cell_type": "markdown",
      "metadata": {
        "id": "_QjuYeO_MHNs"
      },
      "source": [
        "## Voting classifiers\n",
        "\n",
        "* we have trained a few classifiers, each one achieving about 80% accuracy\n",
        "* we can create an even better classifier is to aggreagte the predictions of each classifier and predict the class that gets the most votes\n",
        "* this is called a **hard voting classifier**"
      ]
    },
    {
      "cell_type": "code",
      "execution_count": 41,
      "metadata": {
        "id": "okUPbVzkMHNs"
      },
      "outputs": [],
      "source": [
        "from sklearn.model_selection import train_test_split\n",
        "#from sklearn.datasets import make_moons\n",
        "\n",
        "X_train, X_test, y_train, y_test = train_test_split(X, y, random_state=42)"
      ]
    },
    {
      "cell_type": "markdown",
      "metadata": {
        "id": "a3TR_p_hMHNu"
      },
      "source": [
        "## Random Forests\n",
        "\n",
        "A Random Forest is an ensemble of Decision Trees, generally trained via the bagging method, typically with `max_samples` set to the size of the training set. Instead of building a BaggingClassifier and passing it a DecisionTreeClassifier, you can instead use the **RandomForestClassifier** class."
      ]
    },
    {
      "cell_type": "code",
      "execution_count": 42,
      "metadata": {
        "id": "xzvjtjnzMHNu"
      },
      "outputs": [],
      "source": [
        "from sklearn.ensemble import RandomForestClassifier\n",
        "\n",
        "rnd_clf = RandomForestClassifier(n_estimators=100, max_leaf_nodes=16, random_state=42)\n",
        "rnd_clf.fit(X_train, y_train)\n",
        "\n",
        "y_pred = rnd_clf.predict(X_test)"
      ]
    },
    {
      "cell_type": "code",
      "source": [
        "from sklearn.metrics import accuracy_score\n",
        "print(accuracy_score(y_test, y_pred))"
      ],
      "metadata": {
        "colab": {
          "base_uri": "https://localhost:8080/"
        },
        "id": "8VjXoGi9-5ek",
        "outputId": "c0ccafe6-906c-47c9-8e55-f843730d0276"
      },
      "execution_count": 43,
      "outputs": [
        {
          "output_type": "stream",
          "name": "stdout",
          "text": [
            "0.5728666666666666\n"
          ]
        }
      ]
    },
    {
      "cell_type": "code",
      "source": [
        "rnd_clf = RandomForestClassifier(n_estimators=500, max_leaf_nodes=32, random_state=42)\n",
        "rnd_clf.fit(X_train, y_train)\n",
        "\n",
        "y_pred2 = rnd_clf.predict(X_test)"
      ],
      "metadata": {
        "id": "UAedi9qR_RWY"
      },
      "execution_count": 44,
      "outputs": []
    },
    {
      "cell_type": "code",
      "source": [
        "from sklearn.metrics import accuracy_score\n",
        "print(accuracy_score(y_test, y_pred2))"
      ],
      "metadata": {
        "colab": {
          "base_uri": "https://localhost:8080/"
        },
        "id": "lJSNHg-Y_upT",
        "outputId": "2b938ad1-ec5c-4553-a3e2-78c265979fa4"
      },
      "execution_count": 45,
      "outputs": [
        {
          "output_type": "stream",
          "name": "stdout",
          "text": [
            "0.5942\n"
          ]
        }
      ]
    },
    {
      "cell_type": "code",
      "source": [
        "rnd_clf = RandomForestClassifier(n_estimators=1000, max_leaf_nodes=64, random_state=42)\n",
        "rnd_clf.fit(X_train, y_train)\n",
        "\n",
        "y_pred3 = rnd_clf.predict(X_test)"
      ],
      "metadata": {
        "id": "DWYzYt_kAQ_z"
      },
      "execution_count": 46,
      "outputs": []
    },
    {
      "cell_type": "code",
      "source": [
        "from sklearn.metrics import accuracy_score\n",
        "print(accuracy_score(y_test, y_pred3))"
      ],
      "metadata": {
        "colab": {
          "base_uri": "https://localhost:8080/"
        },
        "id": "n3vESodmAWzR",
        "outputId": "7ecbd353-1eb2-4b60-f51f-28146e24e319"
      },
      "execution_count": 47,
      "outputs": [
        {
          "output_type": "stream",
          "name": "stdout",
          "text": [
            "0.6142\n"
          ]
        }
      ]
    },
    {
      "cell_type": "code",
      "source": [
        "rnd_clf = RandomForestClassifier(n_estimators=1000, max_leaf_nodes=5000, random_state=42)\n",
        "rnd_clf.fit(X_train, y_train)\n",
        "\n",
        "y_pred9 = rnd_clf.predict(X_test)"
      ],
      "metadata": {
        "id": "DquKA43JuEBJ"
      },
      "execution_count": null,
      "outputs": []
    },
    {
      "cell_type": "code",
      "source": [
        "from sklearn.metrics import accuracy_score\n",
        "print(accuracy_score(y_test, y_pred9))"
      ],
      "metadata": {
        "colab": {
          "base_uri": "https://localhost:8080/"
        },
        "id": "JMDd_F5cuJA1",
        "outputId": "e24f806a-54a0-45a3-9d1f-b792d8c5a597"
      },
      "execution_count": null,
      "outputs": [
        {
          "output_type": "stream",
          "name": "stdout",
          "text": [
            "0.7424\n"
          ]
        }
      ]
    },
    {
      "cell_type": "code",
      "source": [
        "rnd_clf = RandomForestClassifier(n_estimators=5000, max_leaf_nodes=5000, random_state=42)\n",
        "rnd_clf.fit(X_train, y_train)\n",
        "\n",
        "y_pred10 = rnd_clf.predict(X_test)"
      ],
      "metadata": {
        "id": "x36PS27Sn1KO"
      },
      "execution_count": null,
      "outputs": []
    },
    {
      "cell_type": "code",
      "source": [
        "from sklearn.metrics import accuracy_score\n",
        "print(accuracy_score(y_test, y_pred10))"
      ],
      "metadata": {
        "colab": {
          "base_uri": "https://localhost:8080/"
        },
        "id": "cETWRo09ozke",
        "outputId": "10a7ca69-68c9-40af-a096-13cb71c564f0"
      },
      "execution_count": null,
      "outputs": [
        {
          "output_type": "stream",
          "name": "stdout",
          "text": [
            "0.8800248492221676\n"
          ]
        }
      ]
    },
    {
      "cell_type": "code",
      "source": [
        "rnd_clf = RandomForestClassifier(n_estimators=1000, max_leaf_nodes=12000, random_state=42)\n",
        "rnd_clf.fit(X_train, y_train)\n",
        "\n",
        "y_pred11 = rnd_clf.predict(X_test)"
      ],
      "metadata": {
        "id": "R8XqsyTTN9nv"
      },
      "execution_count": null,
      "outputs": []
    },
    {
      "cell_type": "code",
      "source": [
        "from sklearn.metrics import accuracy_score\n",
        "print(accuracy_score(y_test, y_pred11))"
      ],
      "metadata": {
        "colab": {
          "base_uri": "https://localhost:8080/"
        },
        "id": "5oZlnv2rPZDM",
        "outputId": "4a7f07d3-7175-4009-ab97-c6a37c0c50c8"
      },
      "execution_count": null,
      "outputs": [
        {
          "output_type": "stream",
          "name": "stdout",
          "text": [
            "0.8778505422825046\n"
          ]
        }
      ]
    },
    {
      "cell_type": "markdown",
      "source": [
        "###8. Result"
      ],
      "metadata": {
        "id": "f-qoHkpwfhLE"
      }
    },
    {
      "cell_type": "code",
      "source": [
        "#Confusion Matrix with percetage\n",
        "\n",
        "import numpy as np\n",
        "from sklearn.metrics import confusion_matrix, ConfusionMatrixDisplay\n",
        "\n",
        "\n",
        "# Compute the confusion matrix\n",
        "cm = confusion_matrix(y_test, y_pred3)\n",
        "\n",
        "# Normalize the confusion matrix to show the probability values\n",
        "cm = cm.astype('float') / cm.sum(axis=1)[:, np.newaxis]\n",
        "\n",
        "# Create a ConfusionMatrixDisplay object with probability values\n",
        "disp = ConfusionMatrixDisplay(confusion_matrix=cm, display_labels=['Sr90', 'Cs137', 'Bi207'])\n",
        "\n",
        "# Display the confusion matrix with probability values\n",
        "disp.plot()"
      ],
      "metadata": {
        "colab": {
          "base_uri": "https://localhost:8080/",
          "height": 473
        },
        "id": "K5uttgiAfEMy",
        "outputId": "462524a7-e594-47f6-9723-200988d8b795"
      },
      "execution_count": null,
      "outputs": [
        {
          "output_type": "execute_result",
          "data": {
            "text/plain": [
              "<sklearn.metrics._plot.confusion_matrix.ConfusionMatrixDisplay at 0x7fb18993ab80>"
            ]
          },
          "metadata": {},
          "execution_count": 31
        },
        {
          "output_type": "display_data",
          "data": {
            "text/plain": [
              "<Figure size 640x480 with 2 Axes>"
            ],
            "image/png": "[encoded data removed]"
          },
          "metadata": {}
        }
      ]
    },
    {
      "cell_type": "code",
      "source": [
        "rnd_clf.feature_importances_"
      ],
      "metadata": {
        "id": "Rfo4KbDbYKBV",
        "outputId": "b18451f0-d040-496d-d5ab-91d9d6e762a4",
        "colab": {
          "base_uri": "https://localhost:8080/"
        }
      },
      "execution_count": null,
      "outputs": [
        {
          "output_type": "execute_result",
          "data": {
            "text/plain": [
              "array([0.02127405, 0.0660067 , 0.06458768, 0.05282707, 0.04900737,\n",
              "       0.06472848, 0.04699638, 0.04737761, 0.04871637, 0.055188  ,\n",
              "       0.02117726, 0.02534353, 0.02678397, 0.06386104, 0.06401918,\n",
              "       0.05190684, 0.0584638 , 0.05256301, 0.05889244, 0.06027923])"
            ]
          },
          "metadata": {},
          "execution_count": 32
        }
      ]
    },
    {
      "cell_type": "code",
      "source": [
        "n_features = rnd_clf.n_features_in_"
      ],
      "metadata": {
        "id": "Yya5EFiQ6dmx"
      },
      "execution_count": null,
      "outputs": []
    },
    {
      "cell_type": "code",
      "source": [
        "feature_list = ['Amp', 'Rise/FWHM', 'Fall/FWHM', 'Rise/Fall', 'Rise/(Rise+Fall)', 'Fall(Rise+Fall)', 'Rise/Area', 'Fall/Area', 'Area', 'FWHM', 'Fall80-20', 'Rise80-20', 'Rise+Fall', 'Rise-Fall', '(Rise-Fall)/Amp', '(Rise-Fall)/Area', 'Rise/Amp', 'Fall/Amp', '(Rise-Fall) ^2', '(FallxAmp)/Area', '(RisexAmp)/Area', '(Rise+Fall)xAmp/Area', '(Rise-Fall)xAmp/Area']"
      ],
      "metadata": {
        "id": "DDe2S1CO7ptd"
      },
      "execution_count": null,
      "outputs": []
    },
    {
      "cell_type": "code",
      "source": [
        "import matplotlib.pyplot as plt\n",
        "\n",
        "plt.barh(np.arange(n_features), rnd_clf.feature_importances_, align='center')\n",
        "plt.yticks(np.arange(n_features), feature_list)\n",
        "plt.xlabel(\"Feature importance\")\n",
        "plt.ylabel(\"Feature\")\n",
        "plt.ylim(-1, n_features);\n",
        "plt.figure(figsize=(80, 60))"
      ],
      "metadata": {
        "colab": {
          "base_uri": "https://localhost:8080/",
          "height": 314
        },
        "id": "v0AYqpdX6bfk",
        "outputId": "9e8dbefc-b17a-41e5-c4b9-184ece61f194"
      },
      "execution_count": null,
      "outputs": [
        {
          "output_type": "execute_result",
          "data": {
            "text/plain": [
              "<Figure size 5760x4320 with 0 Axes>"
            ]
          },
          "metadata": {},
          "execution_count": 458
        },
        {
          "output_type": "display_data",
          "data": {
            "text/plain": [
              "<Figure size 432x288 with 1 Axes>"
            ],
            "image/png": "[encoded data removed]"
          },
          "metadata": {
            "needs_background": "light"
          }
        },
        {
          "output_type": "display_data",
          "data": {
            "text/plain": [
              "<Figure size 5760x4320 with 0 Axes>"
            ]
          },
          "metadata": {}
        }
      ]
    }
  ],
  "metadata": {
    "kernelspec": {
      "display_name": "Python 3 (ipykernel)",
      "language": "python",
      "name": "python3"
    },
    "language_info": {
      "codemirror_mode": {
        "name": "ipython",
        "version": 3
      },
      "file_extension": ".py",
      "mimetype": "text/x-python",
      "name": "python",
      "nbconvert_exporter": "python",
      "pygments_lexer": "ipython3",
      "version": "3.8.6"
    },
    "nav_menu": {
      "height": "309px",
      "width": "468px"
    },
    "rise": {
      "theme": "serif"
    },
    "toc": {
      "navigate_menu": true,
      "number_sections": true,
      "sideBar": true,
      "threshold": 6,
      "toc_cell": false,
      "toc_section_display": "block",
      "toc_window_display": false
    },
    "colab": {
      "provenance": [],
      "machine_shape": "hm",
      "include_colab_link": true
    },
    "accelerator": "TPU",
    "gpuClass": "standard"
  },
  "nbformat": 4,
  "nbformat_minor": 0
}